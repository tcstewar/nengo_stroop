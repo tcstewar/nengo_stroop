{
 "cells": [
  {
   "cell_type": "code",
   "execution_count": 1,
   "metadata": {
    "collapsed": true
   },
   "outputs": [],
   "source": [
    "%matplotlib inline\n",
    "import matplotlib.pyplot as plt\n",
    "import seaborn\n",
    "import pandas"
   ]
  },
  {
   "cell_type": "code",
   "execution_count": 47,
   "metadata": {
    "collapsed": true
   },
   "outputs": [],
   "source": [
    "import nengo\n",
    "import nengo_spa as spa\n",
    "import numpy as np\n",
    "import pytry\n",
    "\n",
    "class StroopTrial(pytry.PlotTrial):\n",
    "    def params(self):\n",
    "        self.param('number of dimensions in semantic pointer', D=16)\n",
    "        self.param('number of each type of stimuli to test', n_stims=2)\n",
    "        self.param('inter-stimulus interval', t_isi=0.05)\n",
    "        self.param('stimulus presentation time', t_stim=0.15)\n",
    "        self.param('direct automaticity', auto_direct=0.0)\n",
    "        self.param('use neurons', use_neurons=True)\n",
    "        \n",
    "    def evaluate(self, p, plt):\n",
    "        stimuli = []\n",
    "        for i in range(p.n_stims):\n",
    "            stimuli.append(('NEUTRAL%d'%i, 'COLOR%d'%i, 'neutral'))\n",
    "        for i in range(p.n_stims):\n",
    "            stimuli.append(('COLOR%d'%i, 'COLOR%d'%i, 'congruent'))\n",
    "        for i in range(p.n_stims):\n",
    "            stimuli.append(('COLOR%d'%((i+1)%p.n_stims), 'COLOR%d'%i, 'incongruent'))\n",
    "\n",
    "        vocab = spa.Vocabulary(p.D, pointer_gen=np.random.RandomState(seed=p.seed))\n",
    "        for i in range(p.n_stims):\n",
    "            vocab.populate('NEUTRAL%d'%i)\n",
    "            vocab.populate('COLOR%d'%i)\n",
    "        vocab.populate('COLOR; WORD')\n",
    "\n",
    "        model = spa.Network(seed=p.seed)\n",
    "        with model:\n",
    "            def word_func(t):\n",
    "                index = int (t / (p.t_stim + p.t_isi))\n",
    "                t = t % (p.t_stim + p.t_isi)\n",
    "                if t < p.t_isi:\n",
    "                    return '0'\n",
    "                else:\n",
    "                    return stimuli[index%len(stimuli)][0]\n",
    "            def color_func(t):\n",
    "                index = int (t / (p.t_stim + p.t_isi))\n",
    "                t = t % (p.t_stim + p.t_isi)\n",
    "                if t < p.t_isi:\n",
    "                    return '0'\n",
    "                else:\n",
    "                    return stimuli[index%len(stimuli)][1]\n",
    "            stim_w = spa.Transcode(word_func, output_vocab=vocab)\n",
    "            stim_c = spa.Transcode(color_func, output_vocab=vocab) \n",
    "            stim_a = spa.Transcode('COLOR', output_vocab=vocab)\n",
    "\n",
    "            wm = spa.State(vocab)\n",
    "            \n",
    "            (spa.sym.COLOR*stim_c+spa.sym.WORD*stim_w)*~stim_a >> wm\n",
    "            \n",
    "            if p.auto_direct != 0:\n",
    "                stim_w*p.auto_direct >> wm\n",
    "                \n",
    "            if not p.use_neurons:\n",
    "                for ens in model.all_ensembles:\n",
    "                    ens.neuron_type=nengo.Direct()\n",
    "                \n",
    "\n",
    "            p_output = nengo.Probe(wm.output, synapse=0.02)\n",
    "            p_correct = nengo.Probe(stim_c.output)\n",
    "\n",
    "        sim = nengo.Simulator(model, progress_bar=p.verbose)\n",
    "        with sim:\n",
    "            sim.run(p.n_stims*(p.t_isi+p.t_stim)*3)    \n",
    "\n",
    "        v = np.einsum('ij,ij->i',sim.data[p_correct], sim.data[p_output])\n",
    "        steps = int((p.t_isi+p.t_stim)/sim.dt)\n",
    "        scores = v[steps-2::steps]\n",
    "        \n",
    "        if plt:\n",
    "            #plt.plot(sim.trange(), v)\n",
    "            plt.plot(sim.trange(), sim.data[p_output].dot(vocab.vectors.T))\n",
    "        \n",
    "        return dict(\n",
    "            scores=scores,\n",
    "            stimuli=stimuli,\n",
    "            neutral=np.mean(scores[:p.n_stims]),\n",
    "            congruent=np.mean(scores[p.n_stims:p.n_stims*2]),\n",
    "            incogruent=np.mean(scores[p.n_stims*2:]),            \n",
    "        )\n",
    "\n",
    "        "
   ]
  },
  {
   "cell_type": "code",
   "execution_count": 48,
   "metadata": {
    "scrolled": false
   },
   "outputs": [
    {
     "name": "stdout",
     "output_type": "stream",
     "text": [
      "running StroopTrial#20200322-153100-645be9bf\n"
     ]
    },
    {
     "data": {
      "application/vdom.v1+json": {
       "attributes": {},
       "tagName": "div"
      },
      "text/html": [
       "\n",
       "                <script>\n",
       "                    if (Jupyter.version.split(\".\")[0] < 5) {\n",
       "                        var pb = document.getElementById(\"17d6bff3-ab02-4551-acc0-6f6f07c498ce\");\n",
       "                        var text = document.createTextNode(\n",
       "                            \"HMTL progress bar requires Jupyter Notebook >= \" +\n",
       "                            \"5.0 or Jupyter Lab. Alternatively, you can use \" +\n",
       "                            \"TerminalProgressBar().\");\n",
       "                        pb.parentNode.insertBefore(text, pb);\n",
       "                    }\n",
       "                </script>\n",
       "                <div id=\"17d6bff3-ab02-4551-acc0-6f6f07c498ce\" style=\"\n",
       "                    width: 100%;\n",
       "                    border: 1px solid #cfcfcf;\n",
       "                    border-radius: 4px;\n",
       "                    text-align: center;\n",
       "                    position: relative;\">\n",
       "                  <div class=\"pb-text\" style=\"\n",
       "                      position: absolute;\n",
       "                      width: 100%;\">\n",
       "                    0%\n",
       "                  </div>\n",
       "                  <div class=\"pb-fill\" style=\"\n",
       "                      background-color: #bdd2e6;\n",
       "                      width: 0%;\">\n",
       "                    <style type=\"text/css\" scoped=\"scoped\">\n",
       "                        @keyframes pb-fill-anim {\n",
       "                            0% { background-position: 0 0; }\n",
       "                            100% { background-position: 100px 0; }\n",
       "                        }\n",
       "                    </style>\n",
       "                    &nbsp;\n",
       "                  </div>\n",
       "                </div>"
      ],
      "text/plain": [
       "HtmlProgressBar cannot be displayed. Please use the TerminalProgressBar. It can be enabled with `nengo.rc.set('progress', 'progress_bar', 'nengo.utils.progress.TerminalProgressBar')`."
      ]
     },
     "metadata": {},
     "output_type": "display_data"
    },
    {
     "data": {
      "application/vdom.v1+json": {
       "attributes": {
        "id": "e587696a-6571-4433-b674-eab762966777",
        "style": {
         "border": "1px solid #cfcfcf",
         "borderRadius": "4px",
         "boxSizing": "border-box",
         "position": "relative",
         "textAlign": "center",
         "width": "100%"
        }
       },
       "children": [
        {
         "attributes": {
          "class": "pb-text",
          "style": {
           "position": "absolute",
           "width": "100%"
          }
         },
         "children": [
          "Build finished in 0:00:02."
         ],
         "tagName": "div"
        },
        {
         "attributes": {
          "class": "pb-fill",
          "style": {
           "animation": "none",
           "backgroundColor": "#bdd2e6",
           "backgroundImage": "none",
           "backgroundSize": "100px 100%",
           "width": "100%"
          }
         },
         "children": [
          {
           "attributes": {
            "scoped": "scoped",
            "type": "text/css"
           },
           "children": [
            "\n                        @keyframes pb-fill-anim {\n                            0% { background-position: 0 0; }\n                            100% { background-position: 100px 0; }\n                        }}"
           ],
           "tagName": "style"
          },
          " "
         ],
         "tagName": "div"
        }
       ],
       "tagName": "div"
      },
      "text/html": [
       "<script>\n",
       "              (function () {\n",
       "                  var root = document.getElementById('17d6bff3-ab02-4551-acc0-6f6f07c498ce');\n",
       "                  var text = root.getElementsByClassName('pb-text')[0];\n",
       "                  var fill = root.getElementsByClassName('pb-fill')[0];\n",
       "\n",
       "                  text.innerHTML = 'Build finished in 0:00:02.';\n",
       "                  \n",
       "            fill.style.width = '100%';\n",
       "            fill.style.animation = 'pb-fill-anim 2s linear infinite';\n",
       "            fill.style.backgroundSize = '100px 100%';\n",
       "            fill.style.backgroundImage = 'repeating-linear-gradient(' +\n",
       "                '90deg, #bdd2e6, #edf2f8 40%, #bdd2e6 80%, #bdd2e6)';\n",
       "        \n",
       "                  \n",
       "                fill.style.animation = 'none';\n",
       "                fill.style.backgroundImage = 'none';\n",
       "            \n",
       "              })();\n",
       "        </script>"
      ]
     },
     "metadata": {},
     "output_type": "display_data"
    },
    {
     "data": {
      "application/vdom.v1+json": {
       "attributes": {},
       "tagName": "div"
      },
      "text/html": [
       "\n",
       "                <script>\n",
       "                    if (Jupyter.version.split(\".\")[0] < 5) {\n",
       "                        var pb = document.getElementById(\"1989f9ff-f82f-4fe3-b6c3-494a9c356239\");\n",
       "                        var text = document.createTextNode(\n",
       "                            \"HMTL progress bar requires Jupyter Notebook >= \" +\n",
       "                            \"5.0 or Jupyter Lab. Alternatively, you can use \" +\n",
       "                            \"TerminalProgressBar().\");\n",
       "                        pb.parentNode.insertBefore(text, pb);\n",
       "                    }\n",
       "                </script>\n",
       "                <div id=\"1989f9ff-f82f-4fe3-b6c3-494a9c356239\" style=\"\n",
       "                    width: 100%;\n",
       "                    border: 1px solid #cfcfcf;\n",
       "                    border-radius: 4px;\n",
       "                    text-align: center;\n",
       "                    position: relative;\">\n",
       "                  <div class=\"pb-text\" style=\"\n",
       "                      position: absolute;\n",
       "                      width: 100%;\">\n",
       "                    0%\n",
       "                  </div>\n",
       "                  <div class=\"pb-fill\" style=\"\n",
       "                      background-color: #bdd2e6;\n",
       "                      width: 0%;\">\n",
       "                    <style type=\"text/css\" scoped=\"scoped\">\n",
       "                        @keyframes pb-fill-anim {\n",
       "                            0% { background-position: 0 0; }\n",
       "                            100% { background-position: 100px 0; }\n",
       "                        }\n",
       "                    </style>\n",
       "                    &nbsp;\n",
       "                  </div>\n",
       "                </div>"
      ],
      "text/plain": [
       "HtmlProgressBar cannot be displayed. Please use the TerminalProgressBar. It can be enabled with `nengo.rc.set('progress', 'progress_bar', 'nengo.utils.progress.TerminalProgressBar')`."
      ]
     },
     "metadata": {},
     "output_type": "display_data"
    },
    {
     "data": {
      "application/vdom.v1+json": {
       "attributes": {
        "id": "ecf3149d-8daa-41e7-aff7-9e922e758203",
        "style": {
         "border": "1px solid #cfcfcf",
         "borderRadius": "4px",
         "boxSizing": "border-box",
         "position": "relative",
         "textAlign": "center",
         "width": "100%"
        }
       },
       "children": [
        {
         "attributes": {
          "class": "pb-text",
          "style": {
           "position": "absolute",
           "width": "100%"
          }
         },
         "children": [
          "Simulation finished in 0:00:04."
         ],
         "tagName": "div"
        },
        {
         "attributes": {
          "class": "pb-fill",
          "style": {
           "animation": "none",
           "backgroundColor": "#bdd2e6",
           "backgroundImage": "none",
           "transition": "width 0.1s linear",
           "width": "100%"
          }
         },
         "children": [
          {
           "attributes": {
            "scoped": "scoped",
            "type": "text/css"
           },
           "children": [
            "\n                        @keyframes pb-fill-anim {\n                            0% { background-position: 0 0; }\n                            100% { background-position: 100px 0; }\n                        }}"
           ],
           "tagName": "style"
          },
          " "
         ],
         "tagName": "div"
        }
       ],
       "tagName": "div"
      },
      "text/html": [
       "<script>\n",
       "              (function () {\n",
       "                  var root = document.getElementById('1989f9ff-f82f-4fe3-b6c3-494a9c356239');\n",
       "                  var text = root.getElementsByClassName('pb-text')[0];\n",
       "                  var fill = root.getElementsByClassName('pb-fill')[0];\n",
       "\n",
       "                  text.innerHTML = 'Simulation finished in 0:00:04.';\n",
       "                  \n",
       "            if (100.0 > 0.) {\n",
       "                fill.style.transition = 'width 0.1s linear';\n",
       "            } else {\n",
       "                fill.style.transition = 'none';\n",
       "            }\n",
       "\n",
       "            fill.style.width = '100.0%';\n",
       "            fill.style.animation = 'none';\n",
       "            fill.style.backgroundImage = 'none'\n",
       "        \n",
       "                  \n",
       "                fill.style.animation = 'none';\n",
       "                fill.style.backgroundImage = 'none';\n",
       "            \n",
       "              })();\n",
       "        </script>"
      ]
     },
     "metadata": {},
     "output_type": "display_data"
    },
    {
     "data": {
      "image/png": "[encoded data removed]",
      "text/plain": [
       "<Figure size 432x288 with 1 Axes>"
      ]
     },
     "metadata": {},
     "output_type": "display_data"
    },
    {
     "name": "stdout",
     "output_type": "stream",
     "text": [
      "seed = 0\n",
      "D = 64\n",
      "n_stims = 2\n",
      "t_isi = 0.05\n",
      "t_stim = 0.15\n",
      "auto_direct = 0.4\n",
      "use_neurons = False\n",
      "congruent = 1.2594733426334312\n",
      "incogruent = 0.9861382556716052\n",
      "neutral = 0.9807027873296235\n",
      "scores = array([1.14272867, 0.81867691, 1.43335854, 1.08558815, 1.28270393,\n",
      "       0.68957258])\n",
      "stimuli = [('NEUTRAL0', 'COLOR0', 'neutral'), ('NEUTRAL1', 'COLOR1', 'neutral'), ('COLOR0', 'COLOR0', 'congruent'), ('COLOR1', 'COLOR1', 'congruent'), ('COLOR1', 'COLOR0', 'incongruent'), ('COLOR0', 'COLOR1', 'incongruent')]\n"
     ]
    },
    {
     "data": {
      "text/plain": [
       "{'congruent': 1.2594733426334312,\n",
       " 'incogruent': 0.9861382556716052,\n",
       " 'neutral': 0.9807027873296235,\n",
       " 'scores': array([1.14272867, 0.81867691, 1.43335854, 1.08558815, 1.28270393,\n",
       "        0.68957258]),\n",
       " 'stimuli': [('NEUTRAL0', 'COLOR0', 'neutral'),\n",
       "  ('NEUTRAL1', 'COLOR1', 'neutral'),\n",
       "  ('COLOR0', 'COLOR0', 'congruent'),\n",
       "  ('COLOR1', 'COLOR1', 'congruent'),\n",
       "  ('COLOR1', 'COLOR0', 'incongruent'),\n",
       "  ('COLOR0', 'COLOR1', 'incongruent')]}"
      ]
     },
     "execution_count": 48,
     "metadata": {},
     "output_type": "execute_result"
    }
   ],
   "source": [
    "StroopTrial().run(plt=True, n_stims=2, data_dir=None, seed=0, D=64, auto_direct=0.4, use_neurons=False)"
   ]
  },
  {
   "cell_type": "code",
   "execution_count": 57,
   "metadata": {},
   "outputs": [
    {
     "name": "stdout",
     "output_type": "stream",
     "text": [
      "10\n"
     ]
    },
    {
     "name": "stderr",
     "output_type": "stream",
     "text": [
      "c:\\users\\terry\\documents\\github\\nengo_spa\\nengo_spa\\vocabulary.py:173: UserWarning: Could not create a semantic pointer with max_similarity=0.10 (D=64, M=16, similarity=0.10)\n",
      "  len(self._key2idx), best_sim))\n",
      "c:\\users\\terry\\documents\\github\\nengo_spa\\nengo_spa\\vocabulary.py:173: UserWarning: Could not create a semantic pointer with max_similarity=0.10 (D=64, M=17, similarity=0.11)\n",
      "  len(self._key2idx), best_sim))\n",
      "c:\\users\\terry\\documents\\github\\nengo_spa\\nengo_spa\\vocabulary.py:173: UserWarning: Could not create a semantic pointer with max_similarity=0.10 (D=64, M=16, similarity=0.10)\n",
      "  len(self._key2idx), best_sim))\n",
      "c:\\users\\terry\\documents\\github\\nengo_spa\\nengo_spa\\vocabulary.py:173: UserWarning: Could not create a semantic pointer with max_similarity=0.10 (D=64, M=17, similarity=0.11)\n",
      "  len(self._key2idx), best_sim))\n",
      "c:\\users\\terry\\documents\\github\\nengo_spa\\nengo_spa\\vocabulary.py:173: UserWarning: Could not create a semantic pointer with max_similarity=0.10 (D=64, M=16, similarity=0.10)\n",
      "  len(self._key2idx), best_sim))\n",
      "c:\\users\\terry\\documents\\github\\nengo_spa\\nengo_spa\\vocabulary.py:173: UserWarning: Could not create a semantic pointer with max_similarity=0.10 (D=64, M=17, similarity=0.11)\n",
      "  len(self._key2idx), best_sim))\n",
      "c:\\users\\terry\\documents\\github\\nengo_spa\\nengo_spa\\vocabulary.py:173: UserWarning: Could not create a semantic pointer with max_similarity=0.10 (D=64, M=16, similarity=0.10)\n",
      "  len(self._key2idx), best_sim))\n",
      "c:\\users\\terry\\documents\\github\\nengo_spa\\nengo_spa\\vocabulary.py:173: UserWarning: Could not create a semantic pointer with max_similarity=0.10 (D=64, M=17, similarity=0.11)\n",
      "  len(self._key2idx), best_sim))\n",
      "c:\\users\\terry\\documents\\github\\nengo_spa\\nengo_spa\\vocabulary.py:173: UserWarning: Could not create a semantic pointer with max_similarity=0.10 (D=64, M=16, similarity=0.10)\n",
      "  len(self._key2idx), best_sim))\n",
      "c:\\users\\terry\\documents\\github\\nengo_spa\\nengo_spa\\vocabulary.py:173: UserWarning: Could not create a semantic pointer with max_similarity=0.10 (D=64, M=17, similarity=0.11)\n",
      "  len(self._key2idx), best_sim))\n",
      "c:\\users\\terry\\documents\\github\\nengo_spa\\nengo_spa\\vocabulary.py:173: UserWarning: Could not create a semantic pointer with max_similarity=0.10 (D=64, M=16, similarity=0.10)\n",
      "  len(self._key2idx), best_sim))\n",
      "c:\\users\\terry\\documents\\github\\nengo_spa\\nengo_spa\\vocabulary.py:173: UserWarning: Could not create a semantic pointer with max_similarity=0.10 (D=64, M=17, similarity=0.11)\n",
      "  len(self._key2idx), best_sim))\n",
      "c:\\users\\terry\\documents\\github\\nengo_spa\\nengo_spa\\vocabulary.py:173: UserWarning: Could not create a semantic pointer with max_similarity=0.10 (D=64, M=16, similarity=0.10)\n",
      "  len(self._key2idx), best_sim))\n",
      "c:\\users\\terry\\documents\\github\\nengo_spa\\nengo_spa\\vocabulary.py:173: UserWarning: Could not create a semantic pointer with max_similarity=0.10 (D=64, M=17, similarity=0.11)\n",
      "  len(self._key2idx), best_sim))\n",
      "c:\\users\\terry\\documents\\github\\nengo_spa\\nengo_spa\\vocabulary.py:173: UserWarning: Could not create a semantic pointer with max_similarity=0.10 (D=64, M=16, similarity=0.10)\n",
      "  len(self._key2idx), best_sim))\n",
      "c:\\users\\terry\\documents\\github\\nengo_spa\\nengo_spa\\vocabulary.py:173: UserWarning: Could not create a semantic pointer with max_similarity=0.10 (D=64, M=17, similarity=0.11)\n",
      "  len(self._key2idx), best_sim))\n",
      "c:\\users\\terry\\documents\\github\\nengo_spa\\nengo_spa\\vocabulary.py:173: UserWarning: Could not create a semantic pointer with max_similarity=0.10 (D=64, M=16, similarity=0.10)\n",
      "  len(self._key2idx), best_sim))\n",
      "c:\\users\\terry\\documents\\github\\nengo_spa\\nengo_spa\\vocabulary.py:173: UserWarning: Could not create a semantic pointer with max_similarity=0.10 (D=64, M=17, similarity=0.11)\n",
      "  len(self._key2idx), best_sim))\n",
      "c:\\users\\terry\\documents\\github\\nengo_spa\\nengo_spa\\vocabulary.py:173: UserWarning: Could not create a semantic pointer with max_similarity=0.10 (D=64, M=16, similarity=0.10)\n",
      "  len(self._key2idx), best_sim))\n",
      "c:\\users\\terry\\documents\\github\\nengo_spa\\nengo_spa\\vocabulary.py:173: UserWarning: Could not create a semantic pointer with max_similarity=0.10 (D=64, M=17, similarity=0.11)\n",
      "  len(self._key2idx), best_sim))\n"
     ]
    },
    {
     "name": "stdout",
     "output_type": "stream",
     "text": [
      "11\n"
     ]
    },
    {
     "name": "stderr",
     "output_type": "stream",
     "text": [
      "c:\\users\\terry\\documents\\github\\nengo_spa\\nengo_spa\\vocabulary.py:173: UserWarning: Could not create a semantic pointer with max_similarity=0.10 (D=64, M=13, similarity=0.10)\n",
      "  len(self._key2idx), best_sim))\n",
      "c:\\users\\terry\\documents\\github\\nengo_spa\\nengo_spa\\vocabulary.py:173: UserWarning: Could not create a semantic pointer with max_similarity=0.10 (D=64, M=16, similarity=0.11)\n",
      "  len(self._key2idx), best_sim))\n",
      "c:\\users\\terry\\documents\\github\\nengo_spa\\nengo_spa\\vocabulary.py:173: UserWarning: Could not create a semantic pointer with max_similarity=0.10 (D=64, M=17, similarity=0.11)\n",
      "  len(self._key2idx), best_sim))\n",
      "c:\\users\\terry\\documents\\github\\nengo_spa\\nengo_spa\\vocabulary.py:173: UserWarning: Could not create a semantic pointer with max_similarity=0.10 (D=64, M=13, similarity=0.10)\n",
      "  len(self._key2idx), best_sim))\n",
      "c:\\users\\terry\\documents\\github\\nengo_spa\\nengo_spa\\vocabulary.py:173: UserWarning: Could not create a semantic pointer with max_similarity=0.10 (D=64, M=16, similarity=0.11)\n",
      "  len(self._key2idx), best_sim))\n",
      "c:\\users\\terry\\documents\\github\\nengo_spa\\nengo_spa\\vocabulary.py:173: UserWarning: Could not create a semantic pointer with max_similarity=0.10 (D=64, M=17, similarity=0.11)\n",
      "  len(self._key2idx), best_sim))\n",
      "c:\\users\\terry\\documents\\github\\nengo_spa\\nengo_spa\\vocabulary.py:173: UserWarning: Could not create a semantic pointer with max_similarity=0.10 (D=64, M=13, similarity=0.10)\n",
      "  len(self._key2idx), best_sim))\n",
      "c:\\users\\terry\\documents\\github\\nengo_spa\\nengo_spa\\vocabulary.py:173: UserWarning: Could not create a semantic pointer with max_similarity=0.10 (D=64, M=16, similarity=0.11)\n",
      "  len(self._key2idx), best_sim))\n",
      "c:\\users\\terry\\documents\\github\\nengo_spa\\nengo_spa\\vocabulary.py:173: UserWarning: Could not create a semantic pointer with max_similarity=0.10 (D=64, M=17, similarity=0.11)\n",
      "  len(self._key2idx), best_sim))\n",
      "c:\\users\\terry\\documents\\github\\nengo_spa\\nengo_spa\\vocabulary.py:173: UserWarning: Could not create a semantic pointer with max_similarity=0.10 (D=64, M=13, similarity=0.10)\n",
      "  len(self._key2idx), best_sim))\n",
      "c:\\users\\terry\\documents\\github\\nengo_spa\\nengo_spa\\vocabulary.py:173: UserWarning: Could not create a semantic pointer with max_similarity=0.10 (D=64, M=16, similarity=0.11)\n",
      "  len(self._key2idx), best_sim))\n",
      "c:\\users\\terry\\documents\\github\\nengo_spa\\nengo_spa\\vocabulary.py:173: UserWarning: Could not create a semantic pointer with max_similarity=0.10 (D=64, M=17, similarity=0.11)\n",
      "  len(self._key2idx), best_sim))\n",
      "c:\\users\\terry\\documents\\github\\nengo_spa\\nengo_spa\\vocabulary.py:173: UserWarning: Could not create a semantic pointer with max_similarity=0.10 (D=64, M=13, similarity=0.10)\n",
      "  len(self._key2idx), best_sim))\n",
      "c:\\users\\terry\\documents\\github\\nengo_spa\\nengo_spa\\vocabulary.py:173: UserWarning: Could not create a semantic pointer with max_similarity=0.10 (D=64, M=16, similarity=0.11)\n",
      "  len(self._key2idx), best_sim))\n",
      "c:\\users\\terry\\documents\\github\\nengo_spa\\nengo_spa\\vocabulary.py:173: UserWarning: Could not create a semantic pointer with max_similarity=0.10 (D=64, M=17, similarity=0.11)\n",
      "  len(self._key2idx), best_sim))\n",
      "c:\\users\\terry\\documents\\github\\nengo_spa\\nengo_spa\\vocabulary.py:173: UserWarning: Could not create a semantic pointer with max_similarity=0.10 (D=64, M=13, similarity=0.10)\n",
      "  len(self._key2idx), best_sim))\n",
      "c:\\users\\terry\\documents\\github\\nengo_spa\\nengo_spa\\vocabulary.py:173: UserWarning: Could not create a semantic pointer with max_similarity=0.10 (D=64, M=16, similarity=0.11)\n",
      "  len(self._key2idx), best_sim))\n",
      "c:\\users\\terry\\documents\\github\\nengo_spa\\nengo_spa\\vocabulary.py:173: UserWarning: Could not create a semantic pointer with max_similarity=0.10 (D=64, M=17, similarity=0.11)\n",
      "  len(self._key2idx), best_sim))\n",
      "c:\\users\\terry\\documents\\github\\nengo_spa\\nengo_spa\\vocabulary.py:173: UserWarning: Could not create a semantic pointer with max_similarity=0.10 (D=64, M=13, similarity=0.10)\n",
      "  len(self._key2idx), best_sim))\n",
      "c:\\users\\terry\\documents\\github\\nengo_spa\\nengo_spa\\vocabulary.py:173: UserWarning: Could not create a semantic pointer with max_similarity=0.10 (D=64, M=16, similarity=0.11)\n",
      "  len(self._key2idx), best_sim))\n",
      "c:\\users\\terry\\documents\\github\\nengo_spa\\nengo_spa\\vocabulary.py:173: UserWarning: Could not create a semantic pointer with max_similarity=0.10 (D=64, M=17, similarity=0.11)\n",
      "  len(self._key2idx), best_sim))\n",
      "c:\\users\\terry\\documents\\github\\nengo_spa\\nengo_spa\\vocabulary.py:173: UserWarning: Could not create a semantic pointer with max_similarity=0.10 (D=64, M=13, similarity=0.10)\n",
      "  len(self._key2idx), best_sim))\n",
      "c:\\users\\terry\\documents\\github\\nengo_spa\\nengo_spa\\vocabulary.py:173: UserWarning: Could not create a semantic pointer with max_similarity=0.10 (D=64, M=16, similarity=0.11)\n",
      "  len(self._key2idx), best_sim))\n",
      "c:\\users\\terry\\documents\\github\\nengo_spa\\nengo_spa\\vocabulary.py:173: UserWarning: Could not create a semantic pointer with max_similarity=0.10 (D=64, M=17, similarity=0.11)\n",
      "  len(self._key2idx), best_sim))\n",
      "c:\\users\\terry\\documents\\github\\nengo_spa\\nengo_spa\\vocabulary.py:173: UserWarning: Could not create a semantic pointer with max_similarity=0.10 (D=64, M=13, similarity=0.10)\n",
      "  len(self._key2idx), best_sim))\n",
      "c:\\users\\terry\\documents\\github\\nengo_spa\\nengo_spa\\vocabulary.py:173: UserWarning: Could not create a semantic pointer with max_similarity=0.10 (D=64, M=16, similarity=0.11)\n",
      "  len(self._key2idx), best_sim))\n",
      "c:\\users\\terry\\documents\\github\\nengo_spa\\nengo_spa\\vocabulary.py:173: UserWarning: Could not create a semantic pointer with max_similarity=0.10 (D=64, M=17, similarity=0.11)\n",
      "  len(self._key2idx), best_sim))\n",
      "c:\\users\\terry\\documents\\github\\nengo_spa\\nengo_spa\\vocabulary.py:173: UserWarning: Could not create a semantic pointer with max_similarity=0.10 (D=64, M=13, similarity=0.10)\n",
      "  len(self._key2idx), best_sim))\n",
      "c:\\users\\terry\\documents\\github\\nengo_spa\\nengo_spa\\vocabulary.py:173: UserWarning: Could not create a semantic pointer with max_similarity=0.10 (D=64, M=16, similarity=0.11)\n",
      "  len(self._key2idx), best_sim))\n",
      "c:\\users\\terry\\documents\\github\\nengo_spa\\nengo_spa\\vocabulary.py:173: UserWarning: Could not create a semantic pointer with max_similarity=0.10 (D=64, M=17, similarity=0.11)\n",
      "  len(self._key2idx), best_sim))\n"
     ]
    },
    {
     "name": "stdout",
     "output_type": "stream",
     "text": [
      "12\n"
     ]
    },
    {
     "name": "stderr",
     "output_type": "stream",
     "text": [
      "c:\\users\\terry\\documents\\github\\nengo_spa\\nengo_spa\\vocabulary.py:173: UserWarning: Could not create a semantic pointer with max_similarity=0.10 (D=64, M=14, similarity=0.10)\n",
      "  len(self._key2idx), best_sim))\n",
      "c:\\users\\terry\\documents\\github\\nengo_spa\\nengo_spa\\vocabulary.py:173: UserWarning: Could not create a semantic pointer with max_similarity=0.10 (D=64, M=17, similarity=0.11)\n",
      "  len(self._key2idx), best_sim))\n",
      "c:\\users\\terry\\documents\\github\\nengo_spa\\nengo_spa\\vocabulary.py:173: UserWarning: Could not create a semantic pointer with max_similarity=0.10 (D=64, M=14, similarity=0.10)\n",
      "  len(self._key2idx), best_sim))\n",
      "c:\\users\\terry\\documents\\github\\nengo_spa\\nengo_spa\\vocabulary.py:173: UserWarning: Could not create a semantic pointer with max_similarity=0.10 (D=64, M=17, similarity=0.11)\n",
      "  len(self._key2idx), best_sim))\n",
      "c:\\users\\terry\\documents\\github\\nengo_spa\\nengo_spa\\vocabulary.py:173: UserWarning: Could not create a semantic pointer with max_similarity=0.10 (D=64, M=14, similarity=0.10)\n",
      "  len(self._key2idx), best_sim))\n",
      "c:\\users\\terry\\documents\\github\\nengo_spa\\nengo_spa\\vocabulary.py:173: UserWarning: Could not create a semantic pointer with max_similarity=0.10 (D=64, M=17, similarity=0.11)\n",
      "  len(self._key2idx), best_sim))\n",
      "c:\\users\\terry\\documents\\github\\nengo_spa\\nengo_spa\\vocabulary.py:173: UserWarning: Could not create a semantic pointer with max_similarity=0.10 (D=64, M=14, similarity=0.10)\n",
      "  len(self._key2idx), best_sim))\n",
      "c:\\users\\terry\\documents\\github\\nengo_spa\\nengo_spa\\vocabulary.py:173: UserWarning: Could not create a semantic pointer with max_similarity=0.10 (D=64, M=17, similarity=0.11)\n",
      "  len(self._key2idx), best_sim))\n",
      "c:\\users\\terry\\documents\\github\\nengo_spa\\nengo_spa\\vocabulary.py:173: UserWarning: Could not create a semantic pointer with max_similarity=0.10 (D=64, M=14, similarity=0.10)\n",
      "  len(self._key2idx), best_sim))\n",
      "c:\\users\\terry\\documents\\github\\nengo_spa\\nengo_spa\\vocabulary.py:173: UserWarning: Could not create a semantic pointer with max_similarity=0.10 (D=64, M=17, similarity=0.11)\n",
      "  len(self._key2idx), best_sim))\n",
      "c:\\users\\terry\\documents\\github\\nengo_spa\\nengo_spa\\vocabulary.py:173: UserWarning: Could not create a semantic pointer with max_similarity=0.10 (D=64, M=14, similarity=0.10)\n",
      "  len(self._key2idx), best_sim))\n",
      "c:\\users\\terry\\documents\\github\\nengo_spa\\nengo_spa\\vocabulary.py:173: UserWarning: Could not create a semantic pointer with max_similarity=0.10 (D=64, M=17, similarity=0.11)\n",
      "  len(self._key2idx), best_sim))\n",
      "c:\\users\\terry\\documents\\github\\nengo_spa\\nengo_spa\\vocabulary.py:173: UserWarning: Could not create a semantic pointer with max_similarity=0.10 (D=64, M=14, similarity=0.10)\n",
      "  len(self._key2idx), best_sim))\n",
      "c:\\users\\terry\\documents\\github\\nengo_spa\\nengo_spa\\vocabulary.py:173: UserWarning: Could not create a semantic pointer with max_similarity=0.10 (D=64, M=17, similarity=0.11)\n",
      "  len(self._key2idx), best_sim))\n",
      "c:\\users\\terry\\documents\\github\\nengo_spa\\nengo_spa\\vocabulary.py:173: UserWarning: Could not create a semantic pointer with max_similarity=0.10 (D=64, M=14, similarity=0.10)\n",
      "  len(self._key2idx), best_sim))\n",
      "c:\\users\\terry\\documents\\github\\nengo_spa\\nengo_spa\\vocabulary.py:173: UserWarning: Could not create a semantic pointer with max_similarity=0.10 (D=64, M=17, similarity=0.11)\n",
      "  len(self._key2idx), best_sim))\n",
      "c:\\users\\terry\\documents\\github\\nengo_spa\\nengo_spa\\vocabulary.py:173: UserWarning: Could not create a semantic pointer with max_similarity=0.10 (D=64, M=14, similarity=0.10)\n",
      "  len(self._key2idx), best_sim))\n",
      "c:\\users\\terry\\documents\\github\\nengo_spa\\nengo_spa\\vocabulary.py:173: UserWarning: Could not create a semantic pointer with max_similarity=0.10 (D=64, M=17, similarity=0.11)\n",
      "  len(self._key2idx), best_sim))\n",
      "c:\\users\\terry\\documents\\github\\nengo_spa\\nengo_spa\\vocabulary.py:173: UserWarning: Could not create a semantic pointer with max_similarity=0.10 (D=64, M=14, similarity=0.10)\n",
      "  len(self._key2idx), best_sim))\n",
      "c:\\users\\terry\\documents\\github\\nengo_spa\\nengo_spa\\vocabulary.py:173: UserWarning: Could not create a semantic pointer with max_similarity=0.10 (D=64, M=17, similarity=0.11)\n",
      "  len(self._key2idx), best_sim))\n"
     ]
    },
    {
     "name": "stdout",
     "output_type": "stream",
     "text": [
      "13\n"
     ]
    },
    {
     "name": "stderr",
     "output_type": "stream",
     "text": [
      "c:\\users\\terry\\documents\\github\\nengo_spa\\nengo_spa\\vocabulary.py:173: UserWarning: Could not create a semantic pointer with max_similarity=0.10 (D=64, M=15, similarity=0.11)\n",
      "  len(self._key2idx), best_sim))\n",
      "c:\\users\\terry\\documents\\github\\nengo_spa\\nengo_spa\\vocabulary.py:173: UserWarning: Could not create a semantic pointer with max_similarity=0.10 (D=64, M=17, similarity=0.11)\n",
      "  len(self._key2idx), best_sim))\n",
      "c:\\users\\terry\\documents\\github\\nengo_spa\\nengo_spa\\vocabulary.py:173: UserWarning: Could not create a semantic pointer with max_similarity=0.10 (D=64, M=15, similarity=0.11)\n",
      "  len(self._key2idx), best_sim))\n",
      "c:\\users\\terry\\documents\\github\\nengo_spa\\nengo_spa\\vocabulary.py:173: UserWarning: Could not create a semantic pointer with max_similarity=0.10 (D=64, M=17, similarity=0.11)\n",
      "  len(self._key2idx), best_sim))\n",
      "c:\\users\\terry\\documents\\github\\nengo_spa\\nengo_spa\\vocabulary.py:173: UserWarning: Could not create a semantic pointer with max_similarity=0.10 (D=64, M=15, similarity=0.11)\n",
      "  len(self._key2idx), best_sim))\n",
      "c:\\users\\terry\\documents\\github\\nengo_spa\\nengo_spa\\vocabulary.py:173: UserWarning: Could not create a semantic pointer with max_similarity=0.10 (D=64, M=17, similarity=0.11)\n",
      "  len(self._key2idx), best_sim))\n",
      "c:\\users\\terry\\documents\\github\\nengo_spa\\nengo_spa\\vocabulary.py:173: UserWarning: Could not create a semantic pointer with max_similarity=0.10 (D=64, M=15, similarity=0.11)\n",
      "  len(self._key2idx), best_sim))\n",
      "c:\\users\\terry\\documents\\github\\nengo_spa\\nengo_spa\\vocabulary.py:173: UserWarning: Could not create a semantic pointer with max_similarity=0.10 (D=64, M=17, similarity=0.11)\n",
      "  len(self._key2idx), best_sim))\n",
      "c:\\users\\terry\\documents\\github\\nengo_spa\\nengo_spa\\vocabulary.py:173: UserWarning: Could not create a semantic pointer with max_similarity=0.10 (D=64, M=15, similarity=0.11)\n",
      "  len(self._key2idx), best_sim))\n",
      "c:\\users\\terry\\documents\\github\\nengo_spa\\nengo_spa\\vocabulary.py:173: UserWarning: Could not create a semantic pointer with max_similarity=0.10 (D=64, M=17, similarity=0.11)\n",
      "  len(self._key2idx), best_sim))\n",
      "c:\\users\\terry\\documents\\github\\nengo_spa\\nengo_spa\\vocabulary.py:173: UserWarning: Could not create a semantic pointer with max_similarity=0.10 (D=64, M=15, similarity=0.11)\n",
      "  len(self._key2idx), best_sim))\n",
      "c:\\users\\terry\\documents\\github\\nengo_spa\\nengo_spa\\vocabulary.py:173: UserWarning: Could not create a semantic pointer with max_similarity=0.10 (D=64, M=17, similarity=0.11)\n",
      "  len(self._key2idx), best_sim))\n",
      "c:\\users\\terry\\documents\\github\\nengo_spa\\nengo_spa\\vocabulary.py:173: UserWarning: Could not create a semantic pointer with max_similarity=0.10 (D=64, M=15, similarity=0.11)\n",
      "  len(self._key2idx), best_sim))\n",
      "c:\\users\\terry\\documents\\github\\nengo_spa\\nengo_spa\\vocabulary.py:173: UserWarning: Could not create a semantic pointer with max_similarity=0.10 (D=64, M=17, similarity=0.11)\n",
      "  len(self._key2idx), best_sim))\n",
      "c:\\users\\terry\\documents\\github\\nengo_spa\\nengo_spa\\vocabulary.py:173: UserWarning: Could not create a semantic pointer with max_similarity=0.10 (D=64, M=15, similarity=0.11)\n",
      "  len(self._key2idx), best_sim))\n",
      "c:\\users\\terry\\documents\\github\\nengo_spa\\nengo_spa\\vocabulary.py:173: UserWarning: Could not create a semantic pointer with max_similarity=0.10 (D=64, M=17, similarity=0.11)\n",
      "  len(self._key2idx), best_sim))\n",
      "c:\\users\\terry\\documents\\github\\nengo_spa\\nengo_spa\\vocabulary.py:173: UserWarning: Could not create a semantic pointer with max_similarity=0.10 (D=64, M=15, similarity=0.11)\n",
      "  len(self._key2idx), best_sim))\n",
      "c:\\users\\terry\\documents\\github\\nengo_spa\\nengo_spa\\vocabulary.py:173: UserWarning: Could not create a semantic pointer with max_similarity=0.10 (D=64, M=17, similarity=0.11)\n",
      "  len(self._key2idx), best_sim))\n",
      "c:\\users\\terry\\documents\\github\\nengo_spa\\nengo_spa\\vocabulary.py:173: UserWarning: Could not create a semantic pointer with max_similarity=0.10 (D=64, M=15, similarity=0.11)\n",
      "  len(self._key2idx), best_sim))\n",
      "c:\\users\\terry\\documents\\github\\nengo_spa\\nengo_spa\\vocabulary.py:173: UserWarning: Could not create a semantic pointer with max_similarity=0.10 (D=64, M=17, similarity=0.11)\n",
      "  len(self._key2idx), best_sim))\n"
     ]
    },
    {
     "name": "stdout",
     "output_type": "stream",
     "text": [
      "14\n"
     ]
    },
    {
     "name": "stderr",
     "output_type": "stream",
     "text": [
      "c:\\users\\terry\\documents\\github\\nengo_spa\\nengo_spa\\vocabulary.py:173: UserWarning: Could not create a semantic pointer with max_similarity=0.10 (D=64, M=17, similarity=0.11)\n",
      "  len(self._key2idx), best_sim))\n",
      "c:\\users\\terry\\documents\\github\\nengo_spa\\nengo_spa\\vocabulary.py:173: UserWarning: Could not create a semantic pointer with max_similarity=0.10 (D=64, M=17, similarity=0.11)\n",
      "  len(self._key2idx), best_sim))\n",
      "c:\\users\\terry\\documents\\github\\nengo_spa\\nengo_spa\\vocabulary.py:173: UserWarning: Could not create a semantic pointer with max_similarity=0.10 (D=64, M=17, similarity=0.11)\n",
      "  len(self._key2idx), best_sim))\n",
      "c:\\users\\terry\\documents\\github\\nengo_spa\\nengo_spa\\vocabulary.py:173: UserWarning: Could not create a semantic pointer with max_similarity=0.10 (D=64, M=17, similarity=0.11)\n",
      "  len(self._key2idx), best_sim))\n",
      "c:\\users\\terry\\documents\\github\\nengo_spa\\nengo_spa\\vocabulary.py:173: UserWarning: Could not create a semantic pointer with max_similarity=0.10 (D=64, M=17, similarity=0.11)\n",
      "  len(self._key2idx), best_sim))\n",
      "c:\\users\\terry\\documents\\github\\nengo_spa\\nengo_spa\\vocabulary.py:173: UserWarning: Could not create a semantic pointer with max_similarity=0.10 (D=64, M=17, similarity=0.11)\n",
      "  len(self._key2idx), best_sim))\n",
      "c:\\users\\terry\\documents\\github\\nengo_spa\\nengo_spa\\vocabulary.py:173: UserWarning: Could not create a semantic pointer with max_similarity=0.10 (D=64, M=17, similarity=0.11)\n",
      "  len(self._key2idx), best_sim))\n",
      "c:\\users\\terry\\documents\\github\\nengo_spa\\nengo_spa\\vocabulary.py:173: UserWarning: Could not create a semantic pointer with max_similarity=0.10 (D=64, M=17, similarity=0.11)\n",
      "  len(self._key2idx), best_sim))\n",
      "c:\\users\\terry\\documents\\github\\nengo_spa\\nengo_spa\\vocabulary.py:173: UserWarning: Could not create a semantic pointer with max_similarity=0.10 (D=64, M=17, similarity=0.11)\n",
      "  len(self._key2idx), best_sim))\n",
      "c:\\users\\terry\\documents\\github\\nengo_spa\\nengo_spa\\vocabulary.py:173: UserWarning: Could not create a semantic pointer with max_similarity=0.10 (D=64, M=17, similarity=0.11)\n",
      "  len(self._key2idx), best_sim))\n"
     ]
    },
    {
     "name": "stdout",
     "output_type": "stream",
     "text": [
      "15\n"
     ]
    },
    {
     "name": "stderr",
     "output_type": "stream",
     "text": [
      "c:\\users\\terry\\documents\\github\\nengo_spa\\nengo_spa\\vocabulary.py:173: UserWarning: Could not create a semantic pointer with max_similarity=0.10 (D=64, M=15, similarity=0.11)\n",
      "  len(self._key2idx), best_sim))\n",
      "c:\\users\\terry\\documents\\github\\nengo_spa\\nengo_spa\\vocabulary.py:173: UserWarning: Could not create a semantic pointer with max_similarity=0.10 (D=64, M=15, similarity=0.11)\n",
      "  len(self._key2idx), best_sim))\n",
      "c:\\users\\terry\\documents\\github\\nengo_spa\\nengo_spa\\vocabulary.py:173: UserWarning: Could not create a semantic pointer with max_similarity=0.10 (D=64, M=15, similarity=0.11)\n",
      "  len(self._key2idx), best_sim))\n",
      "c:\\users\\terry\\documents\\github\\nengo_spa\\nengo_spa\\vocabulary.py:173: UserWarning: Could not create a semantic pointer with max_similarity=0.10 (D=64, M=15, similarity=0.11)\n",
      "  len(self._key2idx), best_sim))\n",
      "c:\\users\\terry\\documents\\github\\nengo_spa\\nengo_spa\\vocabulary.py:173: UserWarning: Could not create a semantic pointer with max_similarity=0.10 (D=64, M=15, similarity=0.11)\n",
      "  len(self._key2idx), best_sim))\n",
      "c:\\users\\terry\\documents\\github\\nengo_spa\\nengo_spa\\vocabulary.py:173: UserWarning: Could not create a semantic pointer with max_similarity=0.10 (D=64, M=15, similarity=0.11)\n",
      "  len(self._key2idx), best_sim))\n",
      "c:\\users\\terry\\documents\\github\\nengo_spa\\nengo_spa\\vocabulary.py:173: UserWarning: Could not create a semantic pointer with max_similarity=0.10 (D=64, M=15, similarity=0.11)\n",
      "  len(self._key2idx), best_sim))\n",
      "c:\\users\\terry\\documents\\github\\nengo_spa\\nengo_spa\\vocabulary.py:173: UserWarning: Could not create a semantic pointer with max_similarity=0.10 (D=64, M=15, similarity=0.11)\n",
      "  len(self._key2idx), best_sim))\n",
      "c:\\users\\terry\\documents\\github\\nengo_spa\\nengo_spa\\vocabulary.py:173: UserWarning: Could not create a semantic pointer with max_similarity=0.10 (D=64, M=15, similarity=0.11)\n",
      "  len(self._key2idx), best_sim))\n",
      "c:\\users\\terry\\documents\\github\\nengo_spa\\nengo_spa\\vocabulary.py:173: UserWarning: Could not create a semantic pointer with max_similarity=0.10 (D=64, M=15, similarity=0.11)\n",
      "  len(self._key2idx), best_sim))\n"
     ]
    },
    {
     "name": "stdout",
     "output_type": "stream",
     "text": [
      "16\n",
      "17\n"
     ]
    },
    {
     "name": "stderr",
     "output_type": "stream",
     "text": [
      "c:\\users\\terry\\documents\\github\\nengo_spa\\nengo_spa\\vocabulary.py:173: UserWarning: Could not create a semantic pointer with max_similarity=0.10 (D=64, M=17, similarity=0.13)\n",
      "  len(self._key2idx), best_sim))\n",
      "c:\\users\\terry\\documents\\github\\nengo_spa\\nengo_spa\\vocabulary.py:173: UserWarning: Could not create a semantic pointer with max_similarity=0.10 (D=64, M=17, similarity=0.13)\n",
      "  len(self._key2idx), best_sim))\n",
      "c:\\users\\terry\\documents\\github\\nengo_spa\\nengo_spa\\vocabulary.py:173: UserWarning: Could not create a semantic pointer with max_similarity=0.10 (D=64, M=17, similarity=0.13)\n",
      "  len(self._key2idx), best_sim))\n",
      "c:\\users\\terry\\documents\\github\\nengo_spa\\nengo_spa\\vocabulary.py:173: UserWarning: Could not create a semantic pointer with max_similarity=0.10 (D=64, M=17, similarity=0.13)\n",
      "  len(self._key2idx), best_sim))\n",
      "c:\\users\\terry\\documents\\github\\nengo_spa\\nengo_spa\\vocabulary.py:173: UserWarning: Could not create a semantic pointer with max_similarity=0.10 (D=64, M=17, similarity=0.13)\n",
      "  len(self._key2idx), best_sim))\n",
      "c:\\users\\terry\\documents\\github\\nengo_spa\\nengo_spa\\vocabulary.py:173: UserWarning: Could not create a semantic pointer with max_similarity=0.10 (D=64, M=17, similarity=0.13)\n",
      "  len(self._key2idx), best_sim))\n",
      "c:\\users\\terry\\documents\\github\\nengo_spa\\nengo_spa\\vocabulary.py:173: UserWarning: Could not create a semantic pointer with max_similarity=0.10 (D=64, M=17, similarity=0.13)\n",
      "  len(self._key2idx), best_sim))\n",
      "c:\\users\\terry\\documents\\github\\nengo_spa\\nengo_spa\\vocabulary.py:173: UserWarning: Could not create a semantic pointer with max_similarity=0.10 (D=64, M=17, similarity=0.13)\n",
      "  len(self._key2idx), best_sim))\n",
      "c:\\users\\terry\\documents\\github\\nengo_spa\\nengo_spa\\vocabulary.py:173: UserWarning: Could not create a semantic pointer with max_similarity=0.10 (D=64, M=17, similarity=0.13)\n",
      "  len(self._key2idx), best_sim))\n",
      "c:\\users\\terry\\documents\\github\\nengo_spa\\nengo_spa\\vocabulary.py:173: UserWarning: Could not create a semantic pointer with max_similarity=0.10 (D=64, M=17, similarity=0.13)\n",
      "  len(self._key2idx), best_sim))\n"
     ]
    },
    {
     "name": "stdout",
     "output_type": "stream",
     "text": [
      "18\n",
      "19\n"
     ]
    },
    {
     "name": "stderr",
     "output_type": "stream",
     "text": [
      "c:\\users\\terry\\documents\\github\\nengo_spa\\nengo_spa\\vocabulary.py:173: UserWarning: Could not create a semantic pointer with max_similarity=0.10 (D=64, M=16, similarity=0.12)\n",
      "  len(self._key2idx), best_sim))\n",
      "c:\\users\\terry\\documents\\github\\nengo_spa\\nengo_spa\\vocabulary.py:173: UserWarning: Could not create a semantic pointer with max_similarity=0.10 (D=64, M=16, similarity=0.12)\n",
      "  len(self._key2idx), best_sim))\n",
      "c:\\users\\terry\\documents\\github\\nengo_spa\\nengo_spa\\vocabulary.py:173: UserWarning: Could not create a semantic pointer with max_similarity=0.10 (D=64, M=16, similarity=0.12)\n",
      "  len(self._key2idx), best_sim))\n",
      "c:\\users\\terry\\documents\\github\\nengo_spa\\nengo_spa\\vocabulary.py:173: UserWarning: Could not create a semantic pointer with max_similarity=0.10 (D=64, M=16, similarity=0.12)\n",
      "  len(self._key2idx), best_sim))\n",
      "c:\\users\\terry\\documents\\github\\nengo_spa\\nengo_spa\\vocabulary.py:173: UserWarning: Could not create a semantic pointer with max_similarity=0.10 (D=64, M=16, similarity=0.12)\n",
      "  len(self._key2idx), best_sim))\n",
      "c:\\users\\terry\\documents\\github\\nengo_spa\\nengo_spa\\vocabulary.py:173: UserWarning: Could not create a semantic pointer with max_similarity=0.10 (D=64, M=16, similarity=0.12)\n",
      "  len(self._key2idx), best_sim))\n",
      "c:\\users\\terry\\documents\\github\\nengo_spa\\nengo_spa\\vocabulary.py:173: UserWarning: Could not create a semantic pointer with max_similarity=0.10 (D=64, M=16, similarity=0.12)\n",
      "  len(self._key2idx), best_sim))\n",
      "c:\\users\\terry\\documents\\github\\nengo_spa\\nengo_spa\\vocabulary.py:173: UserWarning: Could not create a semantic pointer with max_similarity=0.10 (D=64, M=16, similarity=0.12)\n",
      "  len(self._key2idx), best_sim))\n",
      "c:\\users\\terry\\documents\\github\\nengo_spa\\nengo_spa\\vocabulary.py:173: UserWarning: Could not create a semantic pointer with max_similarity=0.10 (D=64, M=16, similarity=0.12)\n",
      "  len(self._key2idx), best_sim))\n",
      "c:\\users\\terry\\documents\\github\\nengo_spa\\nengo_spa\\vocabulary.py:173: UserWarning: Could not create a semantic pointer with max_similarity=0.10 (D=64, M=16, similarity=0.12)\n",
      "  len(self._key2idx), best_sim))\n"
     ]
    }
   ],
   "source": [
    "for seed in range(10, 20):\n",
    "    print(seed)\n",
    "    for auto_direct in [0.0, 0.1, 0.2, 0.3, 0.4]:\n",
    "        StroopTrial().run(n_stims=8, data_dir='exp2', seed=seed, D=64, verbose=False, auto_direct=auto_direct)        \n",
    "        StroopTrial().run(n_stims=8, data_dir='exp3', seed=seed, D=64, verbose=False, auto_direct=auto_direct, use_neurons=False)"
   ]
  },
  {
   "cell_type": "code",
   "execution_count": null,
   "metadata": {
    "collapsed": true
   },
   "outputs": [],
   "source": []
  },
  {
   "cell_type": "code",
   "execution_count": 58,
   "metadata": {},
   "outputs": [
    {
     "data": {
      "text/plain": [
       "<matplotlib.axes._subplots.AxesSubplot at 0x11b850f1128>"
      ]
     },
     "execution_count": 58,
     "metadata": {},
     "output_type": "execute_result"
    },
    {
     "data": {
      "image/png": "[encoded data removed]",
      "text/plain": [
       "<Figure size 432x288 with 1 Axes>"
      ]
     },
     "metadata": {},
     "output_type": "display_data"
    }
   ],
   "source": [
    "data = []\n",
    "for d in pytry.read('exp2'):\n",
    "    score = d['scores']\n",
    "    stimuli = d['stimuli']\n",
    "    for i in range(len(score)):\n",
    "        d2 = dict(d)\n",
    "        del d2['scores']\n",
    "        del d2['stimuli']\n",
    "        d2['score'] = score[i]\n",
    "        d2['type'] = stimuli[i][2]\n",
    "        data.append(d2)\n",
    "df = pandas.DataFrame(data)\n",
    "seaborn.barplot('type', 'score', hue='auto_direct', data=df)        "
   ]
  },
  {
   "cell_type": "code",
   "execution_count": 59,
   "metadata": {},
   "outputs": [
    {
     "data": {
      "text/plain": [
       "<matplotlib.axes._subplots.AxesSubplot at 0x11b8743e588>"
      ]
     },
     "execution_count": 59,
     "metadata": {},
     "output_type": "execute_result"
    },
    {
     "data": {
      "image/png": "[encoded data removed]",
      "text/plain": [
       "<Figure size 432x288 with 1 Axes>"
      ]
     },
     "metadata": {},
     "output_type": "display_data"
    }
   ],
   "source": [
    "data = []\n",
    "for d in pytry.read('exp3'):\n",
    "    score = d['scores']\n",
    "    stimuli = d['stimuli']\n",
    "    for i in range(len(score)):\n",
    "        d2 = dict(d)\n",
    "        del d2['scores']\n",
    "        del d2['stimuli']\n",
    "        d2['score'] = score[i]\n",
    "        d2['type'] = stimuli[i][2]\n",
    "        data.append(d2)\n",
    "df = pandas.DataFrame(data)\n",
    "seaborn.barplot('type', 'score', hue='auto_direct', data=df)\n",
    "        "
   ]
  },
  {
   "cell_type": "code",
   "execution_count": null,
   "metadata": {
    "collapsed": true
   },
   "outputs": [],
   "source": []
  }
 ],
 "metadata": {
  "kernelspec": {
   "display_name": "Python 3",
   "language": "python",
   "name": "python3"
  },
  "language_info": {
   "codemirror_mode": {
    "name": "ipython",
    "version": 3
   },
   "file_extension": ".py",
   "mimetype": "text/x-python",
   "name": "python",
   "nbconvert_exporter": "python",
   "pygments_lexer": "ipython3",
   "version": "3.6.1"
  }
 },
 "nbformat": 4,
 "nbformat_minor": 2
}
