{
 "cells": [
  {
   "cell_type": "code",
   "execution_count": 1,
   "metadata": {
    "collapsed": true
   },
   "outputs": [],
   "source": [
    "%matplotlib inline\n",
    "import matplotlib.pyplot as plt\n",
    "import seaborn\n",
    "import pandas"
   ]
  },
  {
   "cell_type": "code",
   "execution_count": 7,
   "metadata": {
    "collapsed": true
   },
   "outputs": [],
   "source": [
    "import nengo\n",
    "import nengo_spa as spa\n",
    "import numpy as np\n",
    "import pytry\n",
    "\n",
    "class StroopTrial(pytry.PlotTrial):\n",
    "    def params(self):\n",
    "        self.param('number of dimensions in semantic pointer', D=16)\n",
    "        self.param('number of each type of stimuli to test', n_stims=2)\n",
    "        self.param('inter-stimulus interval', t_isi=0.05)\n",
    "        self.param('stimulus presentation time', t_stim=0.15)\n",
    "        self.param('direct automaticity', auto_direct=0.0)\n",
    "        self.param('use neurons', use_neurons=True)\n",
    "        self.param('decision making system (bg|ia)', decision='bg')\n",
    "        self.param('threshold for producing an output', output_threshold=0.1)\n",
    "        self.param('IA decision time', ia_accum_timescale=0.4)\n",
    "        self.param('attention error', attention_error=0.0)\n",
    "        \n",
    "        \n",
    "    def evaluate(self, p, plt):\n",
    "        stimuli = []\n",
    "        for i in range(p.n_stims):\n",
    "            stimuli.append(('NEUTRAL%d'%i, 'COLOR%d'%i, 'neutral'))\n",
    "        for i in range(p.n_stims):\n",
    "            stimuli.append(('COLOR%d'%i, 'COLOR%d'%i, 'congruent'))\n",
    "        for i in range(p.n_stims):\n",
    "            stimuli.append(('COLOR%d'%((i+1)%p.n_stims), 'COLOR%d'%i, 'incongruent'))\n",
    "\n",
    "        vocab = spa.Vocabulary(p.D, pointer_gen=np.random.RandomState(seed=p.seed))\n",
    "        for i in range(p.n_stims):\n",
    "            vocab.populate('NEUTRAL%d'%i)\n",
    "            vocab.populate('COLOR%d'%i)\n",
    "        vocab.populate('COLOR; WORD')\n",
    "\n",
    "        model = spa.Network(seed=p.seed)\n",
    "        with model:\n",
    "            def word_func(t):\n",
    "                index = int (t / (p.t_stim + p.t_isi))\n",
    "                t = t % (p.t_stim + p.t_isi)\n",
    "                if t < p.t_isi:\n",
    "                    return '0'\n",
    "                else:\n",
    "                    return stimuli[index%len(stimuli)][0]\n",
    "            def color_func(t):\n",
    "                index = int (t / (p.t_stim + p.t_isi))\n",
    "                t = t % (p.t_stim + p.t_isi)\n",
    "                if t < p.t_isi:\n",
    "                    return '0'\n",
    "                else:\n",
    "                    return stimuli[index%len(stimuli)][1]\n",
    "            stim_w = spa.Transcode(word_func, output_vocab=vocab)\n",
    "            stim_c = spa.Transcode(color_func, output_vocab=vocab) \n",
    "            stim_a = spa.Transcode('(1-%g)*COLOR + %g*WORD' % (p.attention_error, p.attention_error), output_vocab=vocab)\n",
    "\n",
    "            wm = spa.State(vocab)\n",
    "            \n",
    "            (spa.sym.COLOR*stim_c+spa.sym.WORD*stim_w)*~stim_a >> wm\n",
    "            \n",
    "            if p.auto_direct != 0:\n",
    "                stim_w*p.auto_direct >> wm\n",
    "                \n",
    "                \n",
    "            speech = spa.State(vocab)\n",
    "            \n",
    "            if p.decision == 'bg':\n",
    "                with spa.ActionSelection() as action_sel:\n",
    "                    for i in range(p.n_stims):\n",
    "                        spa.ifmax(spa.dot(wm, spa.sym('COLOR%d'%i)), spa.sym('COLOR%d'%i) >> speech)                \n",
    "                    spa.ifmax(0.35, spa.sym('0') >> speech)\n",
    "            elif p.decision == 'ia':\n",
    "                def reset_func(t):\n",
    "                    index = int (t / (p.t_stim + p.t_isi))\n",
    "                    t = t % (p.t_stim + p.t_isi)\n",
    "                    if t < p.t_isi:\n",
    "                        return 1\n",
    "                    else:\n",
    "                        return 0                                \n",
    "                reset = nengo.Node(reset_func)\n",
    "                \n",
    "                decision = spa.IAAssocMem(vocab, mapping=['COLOR%d'%i for i in range(p.n_stims)],\n",
    "                                          accum_timescale=p.ia_accum_timescale)\n",
    "                wm >> decision\n",
    "                \n",
    "                nengo.Connection(reset, decision.input_reset)\n",
    "            else:\n",
    "                raise Exception('Unknown decision param: %s' %p.decision)\n",
    "            if not p.use_neurons:\n",
    "                for ens in model.all_ensembles:\n",
    "                    ens.neuron_type=nengo.Direct()\n",
    "                \n",
    "\n",
    "            p_output = nengo.Probe(wm.output, synapse=0.02)\n",
    "            p_correct = nengo.Probe(stim_c.output)\n",
    "            p_speech = nengo.Probe(speech.output, synapse=0.02)\n",
    "            \n",
    "            if p.decision == 'bg':\n",
    "                p_act = nengo.Probe(action_sel.thalamus.output, synapse=0.01)\n",
    "            elif p.decision == 'ia':\n",
    "                p_act = nengo.Probe(decision.selection.output, synapse=0.01)\n",
    "            \n",
    "\n",
    "        sim = nengo.Simulator(model, progress_bar=p.verbose)\n",
    "        with sim:\n",
    "            sim.run(p.n_stims*(p.t_isi+p.t_stim)*3)    \n",
    "\n",
    "        v = np.einsum('ij,ij->i',sim.data[p_correct], sim.data[p_output])\n",
    "        steps = int((p.t_isi+p.t_stim)/sim.dt)\n",
    "        scores = v[steps-2::steps]\n",
    "        \n",
    "\n",
    "        data = sim.data[p_act]\n",
    "        rts = []\n",
    "        accuracy = []\n",
    "        for condition in range(3):\n",
    "            for i in range(p.n_stims):\n",
    "                t_start = (p.t_isi+p.t_stim)*i + p.t_isi + condition*(p.t_isi+p.t_stim)*p.n_stims\n",
    "                t_end = t_start + p.t_stim\n",
    "                d = data[int(t_start/sim.dt):int(t_end/sim.dt) , i]\n",
    "\n",
    "                correct = np.max(d) > p.output_threshold\n",
    "                if correct:\n",
    "                    rt = np.where(d > p.output_threshold)[0][0]*sim.dt\n",
    "                else:\n",
    "                    rt = None\n",
    "\n",
    "                rts.append(rt)\n",
    "                accuracy.append(correct)\n",
    "        \n",
    "        \n",
    "        \n",
    "        \n",
    "        \n",
    "        if plt:\n",
    "            plt.subplot(2, 1, 1)\n",
    "            plt.plot(sim.trange(), sim.data[p_output].dot(vocab.vectors.T))\n",
    "            plt.subplot(2, 1, 2)\n",
    "            if p.decision == 'bg':\n",
    "                plt.plot(sim.trange(), sim.data[p_act][:,:-1])\n",
    "            elif p.decision == 'ia':\n",
    "                plt.plot(sim.trange(), sim.data[p_act])\n",
    "                \n",
    "            for i in range(p.n_stims*3):\n",
    "                plt.axvline(i*(p.t_isi+p.t_stim)+p.t_isi, ls='--')\n",
    "            \n",
    "        \n",
    "        return dict(\n",
    "            scores=scores,\n",
    "            stimuli=stimuli,\n",
    "            neutral=np.mean(scores[:p.n_stims]),\n",
    "            congruent=np.mean(scores[p.n_stims:p.n_stims*2]),\n",
    "            incongruent=np.mean(scores[p.n_stims*2:]),\n",
    "            rts=rts,\n",
    "            accuracy=accuracy,\n",
    "            rt_neutral=np.mean(rts[:p.n_stims]),\n",
    "            rt_congruent=np.mean(rts[p.n_stims:p.n_stims*2]),\n",
    "            rt_incongruent=np.mean(rts[p.n_stims*2:]),\n",
    "        )\n",
    "\n",
    "        "
   ]
  },
  {
   "cell_type": "code",
   "execution_count": 15,
   "metadata": {
    "scrolled": false
   },
   "outputs": [
    {
     "name": "stdout",
     "output_type": "stream",
     "text": [
      "running StroopTrial#20200419-224439-60266b8d\n"
     ]
    },
    {
     "data": {
      "application/vdom.v1+json": {
       "attributes": {},
       "tagName": "div"
      },
      "text/html": [
       "\n",
       "                <script>\n",
       "                    if (Jupyter.version.split(\".\")[0] < 5) {\n",
       "                        var pb = document.getElementById(\"7434d3ae-e56c-48e2-aa5c-0c98fffb19be\");\n",
       "                        var text = document.createTextNode(\n",
       "                            \"HMTL progress bar requires Jupyter Notebook >= \" +\n",
       "                            \"5.0 or Jupyter Lab. Alternatively, you can use \" +\n",
       "                            \"TerminalProgressBar().\");\n",
       "                        pb.parentNode.insertBefore(text, pb);\n",
       "                    }\n",
       "                </script>\n",
       "                <div id=\"7434d3ae-e56c-48e2-aa5c-0c98fffb19be\" style=\"\n",
       "                    width: 100%;\n",
       "                    border: 1px solid #cfcfcf;\n",
       "                    border-radius: 4px;\n",
       "                    text-align: center;\n",
       "                    position: relative;\">\n",
       "                  <div class=\"pb-text\" style=\"\n",
       "                      position: absolute;\n",
       "                      width: 100%;\">\n",
       "                    0%\n",
       "                  </div>\n",
       "                  <div class=\"pb-fill\" style=\"\n",
       "                      background-color: #bdd2e6;\n",
       "                      width: 0%;\">\n",
       "                    <style type=\"text/css\" scoped=\"scoped\">\n",
       "                        @keyframes pb-fill-anim {\n",
       "                            0% { background-position: 0 0; }\n",
       "                            100% { background-position: 100px 0; }\n",
       "                        }\n",
       "                    </style>\n",
       "                    &nbsp;\n",
       "                  </div>\n",
       "                </div>"
      ],
      "text/plain": [
       "HtmlProgressBar cannot be displayed. Please use the TerminalProgressBar. It can be enabled with `nengo.rc.set('progress', 'progress_bar', 'nengo.utils.progress.TerminalProgressBar')`."
      ]
     },
     "metadata": {},
     "output_type": "display_data"
    },
    {
     "data": {
      "application/vdom.v1+json": {
       "attributes": {
        "id": "95420501-adbe-450d-8410-e1e8bec728d1",
        "style": {
         "border": "1px solid #cfcfcf",
         "borderRadius": "4px",
         "boxSizing": "border-box",
         "position": "relative",
         "textAlign": "center",
         "width": "100%"
        }
       },
       "children": [
        {
         "attributes": {
          "class": "pb-text",
          "style": {
           "position": "absolute",
           "width": "100%"
          }
         },
         "children": [
          "Build finished in 0:00:06."
         ],
         "tagName": "div"
        },
        {
         "attributes": {
          "class": "pb-fill",
          "style": {
           "animation": "none",
           "backgroundColor": "#bdd2e6",
           "backgroundImage": "none",
           "backgroundSize": "100px 100%",
           "width": "100%"
          }
         },
         "children": [
          {
           "attributes": {
            "scoped": "scoped",
            "type": "text/css"
           },
           "children": [
            "\n                        @keyframes pb-fill-anim {\n                            0% { background-position: 0 0; }\n                            100% { background-position: 100px 0; }\n                        }}"
           ],
           "tagName": "style"
          },
          " "
         ],
         "tagName": "div"
        }
       ],
       "tagName": "div"
      },
      "text/html": [
       "<script>\n",
       "              (function () {\n",
       "                  var root = document.getElementById('7434d3ae-e56c-48e2-aa5c-0c98fffb19be');\n",
       "                  var text = root.getElementsByClassName('pb-text')[0];\n",
       "                  var fill = root.getElementsByClassName('pb-fill')[0];\n",
       "\n",
       "                  text.innerHTML = 'Build finished in 0:00:06.';\n",
       "                  \n",
       "            fill.style.width = '100%';\n",
       "            fill.style.animation = 'pb-fill-anim 2s linear infinite';\n",
       "            fill.style.backgroundSize = '100px 100%';\n",
       "            fill.style.backgroundImage = 'repeating-linear-gradient(' +\n",
       "                '90deg, #bdd2e6, #edf2f8 40%, #bdd2e6 80%, #bdd2e6)';\n",
       "        \n",
       "                  \n",
       "                fill.style.animation = 'none';\n",
       "                fill.style.backgroundImage = 'none';\n",
       "            \n",
       "              })();\n",
       "        </script>"
      ]
     },
     "metadata": {},
     "output_type": "display_data"
    },
    {
     "data": {
      "application/vdom.v1+json": {
       "attributes": {},
       "tagName": "div"
      },
      "text/html": [
       "\n",
       "                <script>\n",
       "                    if (Jupyter.version.split(\".\")[0] < 5) {\n",
       "                        var pb = document.getElementById(\"ff9d94b8-7e70-4ae0-a40b-b5c12e4418b1\");\n",
       "                        var text = document.createTextNode(\n",
       "                            \"HMTL progress bar requires Jupyter Notebook >= \" +\n",
       "                            \"5.0 or Jupyter Lab. Alternatively, you can use \" +\n",
       "                            \"TerminalProgressBar().\");\n",
       "                        pb.parentNode.insertBefore(text, pb);\n",
       "                    }\n",
       "                </script>\n",
       "                <div id=\"ff9d94b8-7e70-4ae0-a40b-b5c12e4418b1\" style=\"\n",
       "                    width: 100%;\n",
       "                    border: 1px solid #cfcfcf;\n",
       "                    border-radius: 4px;\n",
       "                    text-align: center;\n",
       "                    position: relative;\">\n",
       "                  <div class=\"pb-text\" style=\"\n",
       "                      position: absolute;\n",
       "                      width: 100%;\">\n",
       "                    0%\n",
       "                  </div>\n",
       "                  <div class=\"pb-fill\" style=\"\n",
       "                      background-color: #bdd2e6;\n",
       "                      width: 0%;\">\n",
       "                    <style type=\"text/css\" scoped=\"scoped\">\n",
       "                        @keyframes pb-fill-anim {\n",
       "                            0% { background-position: 0 0; }\n",
       "                            100% { background-position: 100px 0; }\n",
       "                        }\n",
       "                    </style>\n",
       "                    &nbsp;\n",
       "                  </div>\n",
       "                </div>"
      ],
      "text/plain": [
       "HtmlProgressBar cannot be displayed. Please use the TerminalProgressBar. It can be enabled with `nengo.rc.set('progress', 'progress_bar', 'nengo.utils.progress.TerminalProgressBar')`."
      ]
     },
     "metadata": {},
     "output_type": "display_data"
    },
    {
     "data": {
      "application/vdom.v1+json": {
       "attributes": {
        "id": "b9e227c0-f4db-4f28-a523-8b1d7f937b5f",
        "style": {
         "border": "1px solid #cfcfcf",
         "borderRadius": "4px",
         "boxSizing": "border-box",
         "position": "relative",
         "textAlign": "center",
         "width": "100%"
        }
       },
       "children": [
        {
         "attributes": {
          "class": "pb-text",
          "style": {
           "position": "absolute",
           "width": "100%"
          }
         },
         "children": [
          "Simulation finished in 0:01:46."
         ],
         "tagName": "div"
        },
        {
         "attributes": {
          "class": "pb-fill",
          "style": {
           "animation": "none",
           "backgroundColor": "#bdd2e6",
           "backgroundImage": "none",
           "transition": "width 0.1s linear",
           "width": "100%"
          }
         },
         "children": [
          {
           "attributes": {
            "scoped": "scoped",
            "type": "text/css"
           },
           "children": [
            "\n                        @keyframes pb-fill-anim {\n                            0% { background-position: 0 0; }\n                            100% { background-position: 100px 0; }\n                        }}"
           ],
           "tagName": "style"
          },
          " "
         ],
         "tagName": "div"
        }
       ],
       "tagName": "div"
      },
      "text/html": [
       "<script>\n",
       "              (function () {\n",
       "                  var root = document.getElementById('ff9d94b8-7e70-4ae0-a40b-b5c12e4418b1');\n",
       "                  var text = root.getElementsByClassName('pb-text')[0];\n",
       "                  var fill = root.getElementsByClassName('pb-fill')[0];\n",
       "\n",
       "                  text.innerHTML = 'Simulation finished in 0:01:46.';\n",
       "                  \n",
       "            if (100.0 > 0.) {\n",
       "                fill.style.transition = 'width 0.1s linear';\n",
       "            } else {\n",
       "                fill.style.transition = 'none';\n",
       "            }\n",
       "\n",
       "            fill.style.width = '100.0%';\n",
       "            fill.style.animation = 'none';\n",
       "            fill.style.backgroundImage = 'none'\n",
       "        \n",
       "                  \n",
       "                fill.style.animation = 'none';\n",
       "                fill.style.backgroundImage = 'none';\n",
       "            \n",
       "              })();\n",
       "        </script>"
      ]
     },
     "metadata": {},
     "output_type": "display_data"
    },
    {
     "name": "stdout",
     "output_type": "stream",
     "text": [
      "seed = 0\n",
      "D = 64\n",
      "n_stims = 4\n",
      "t_isi = 0.2\n",
      "t_stim = 1.0\n",
      "auto_direct = 0.0\n",
      "use_neurons = True\n",
      "decision = 'ia'\n",
      "output_threshold = 0.1\n",
      "ia_accum_timescale = 2.0\n",
      "attention_error = 0.3\n",
      "accuracy = [True, True, True, True, True, True, True, True, True, True, True, True]\n",
      "congruent = 0.6896317548564349\n",
      "incongruent = 0.5494555185865502\n",
      "neutral = 0.5439659227870516\n",
      "rt_congruent = 0.46725000000000005\n",
      "rt_incongruent = 0.5517500000000001\n",
      "rt_neutral = 0.479\n",
      "rts = [0.215, 0.546, 0.587, 0.5680000000000001, 0.443, 0.45, 0.47100000000000003, 0.505, 0.493, 0.623, 0.56, 0.531]\n",
      "scores = array([0.61468866, 0.54534379, 0.50491575, 0.5109155 , 0.74734098,\n",
      "       0.72548647, 0.68230373, 0.60339585, 0.64838427, 0.44906099,\n",
      "       0.53139617, 0.56898064])\n",
      "stimuli = [('NEUTRAL0', 'COLOR0', 'neutral'), ('NEUTRAL1', 'COLOR1', 'neutral'), ('NEUTRAL2', 'COLOR2', 'neutral'), ('NEUTRAL3', 'COLOR3', 'neutral'), ('COLOR0', 'COLOR0', 'congruent'), ('COLOR1', 'COLOR1', 'congruent'), ('COLOR2', 'COLOR2', 'congruent'), ('COLOR3', 'COLOR3', 'congruent'), ('COLOR1', 'COLOR0', 'incongruent'), ('COLOR2', 'COLOR1', 'incongruent'), ('COLOR3', 'COLOR2', 'incongruent'), ('COLOR0', 'COLOR3', 'incongruent')]\n"
     ]
    },
    {
     "data": {
      "image/png": "[encoded data removed]",
      "text/plain": [
       "<Figure size 864x288 with 2 Axes>"
      ]
     },
     "metadata": {},
     "output_type": "display_data"
    }
   ],
   "source": [
    "plt.figure(figsize=(12,4))\n",
    "r = StroopTrial().run(plt=plt, n_stims=4, data_dir=None, seed=0, D=64, auto_direct=0.0, use_neurons=True,\n",
    "                  decision='ia', ia_accum_timescale=2.0, t_stim=1.0, t_isi=0.2, attention_error=0.3)"
   ]
  },
  {
   "cell_type": "code",
   "execution_count": 16,
   "metadata": {},
   "outputs": [
    {
     "name": "stdout",
     "output_type": "stream",
     "text": [
      "running StroopTrial#20200419-224802-ab59b926\n"
     ]
    },
    {
     "data": {
      "application/vdom.v1+json": {
       "attributes": {},
       "tagName": "div"
      },
      "text/html": [
       "\n",
       "                <script>\n",
       "                    if (Jupyter.version.split(\".\")[0] < 5) {\n",
       "                        var pb = document.getElementById(\"3617f3c4-8e17-4b8b-8aed-fd022ac3a21d\");\n",
       "                        var text = document.createTextNode(\n",
       "                            \"HMTL progress bar requires Jupyter Notebook >= \" +\n",
       "                            \"5.0 or Jupyter Lab. Alternatively, you can use \" +\n",
       "                            \"TerminalProgressBar().\");\n",
       "                        pb.parentNode.insertBefore(text, pb);\n",
       "                    }\n",
       "                </script>\n",
       "                <div id=\"3617f3c4-8e17-4b8b-8aed-fd022ac3a21d\" style=\"\n",
       "                    width: 100%;\n",
       "                    border: 1px solid #cfcfcf;\n",
       "                    border-radius: 4px;\n",
       "                    text-align: center;\n",
       "                    position: relative;\">\n",
       "                  <div class=\"pb-text\" style=\"\n",
       "                      position: absolute;\n",
       "                      width: 100%;\">\n",
       "                    0%\n",
       "                  </div>\n",
       "                  <div class=\"pb-fill\" style=\"\n",
       "                      background-color: #bdd2e6;\n",
       "                      width: 0%;\">\n",
       "                    <style type=\"text/css\" scoped=\"scoped\">\n",
       "                        @keyframes pb-fill-anim {\n",
       "                            0% { background-position: 0 0; }\n",
       "                            100% { background-position: 100px 0; }\n",
       "                        }\n",
       "                    </style>\n",
       "                    &nbsp;\n",
       "                  </div>\n",
       "                </div>"
      ],
      "text/plain": [
       "HtmlProgressBar cannot be displayed. Please use the TerminalProgressBar. It can be enabled with `nengo.rc.set('progress', 'progress_bar', 'nengo.utils.progress.TerminalProgressBar')`."
      ]
     },
     "metadata": {},
     "output_type": "display_data"
    },
    {
     "data": {
      "application/vdom.v1+json": {
       "attributes": {
        "id": "0dfef990-14b8-4faa-882d-505a606b4bd7",
        "style": {
         "border": "1px solid #cfcfcf",
         "borderRadius": "4px",
         "boxSizing": "border-box",
         "position": "relative",
         "textAlign": "center",
         "width": "100%"
        }
       },
       "children": [
        {
         "attributes": {
          "class": "pb-text",
          "style": {
           "position": "absolute",
           "width": "100%"
          }
         },
         "children": [
          "Build finished in 0:00:06."
         ],
         "tagName": "div"
        },
        {
         "attributes": {
          "class": "pb-fill",
          "style": {
           "animation": "none",
           "backgroundColor": "#bdd2e6",
           "backgroundImage": "none",
           "backgroundSize": "100px 100%",
           "width": "100%"
          }
         },
         "children": [
          {
           "attributes": {
            "scoped": "scoped",
            "type": "text/css"
           },
           "children": [
            "\n                        @keyframes pb-fill-anim {\n                            0% { background-position: 0 0; }\n                            100% { background-position: 100px 0; }\n                        }}"
           ],
           "tagName": "style"
          },
          " "
         ],
         "tagName": "div"
        }
       ],
       "tagName": "div"
      },
      "text/html": [
       "<script>\n",
       "              (function () {\n",
       "                  var root = document.getElementById('3617f3c4-8e17-4b8b-8aed-fd022ac3a21d');\n",
       "                  var text = root.getElementsByClassName('pb-text')[0];\n",
       "                  var fill = root.getElementsByClassName('pb-fill')[0];\n",
       "\n",
       "                  text.innerHTML = 'Build finished in 0:00:06.';\n",
       "                  \n",
       "            fill.style.width = '100%';\n",
       "            fill.style.animation = 'pb-fill-anim 2s linear infinite';\n",
       "            fill.style.backgroundSize = '100px 100%';\n",
       "            fill.style.backgroundImage = 'repeating-linear-gradient(' +\n",
       "                '90deg, #bdd2e6, #edf2f8 40%, #bdd2e6 80%, #bdd2e6)';\n",
       "        \n",
       "                  \n",
       "                fill.style.animation = 'none';\n",
       "                fill.style.backgroundImage = 'none';\n",
       "            \n",
       "              })();\n",
       "        </script>"
      ]
     },
     "metadata": {},
     "output_type": "display_data"
    },
    {
     "data": {
      "application/vdom.v1+json": {
       "attributes": {},
       "tagName": "div"
      },
      "text/html": [
       "\n",
       "                <script>\n",
       "                    if (Jupyter.version.split(\".\")[0] < 5) {\n",
       "                        var pb = document.getElementById(\"b65a9a08-f9f9-4901-8f74-758bd49823ab\");\n",
       "                        var text = document.createTextNode(\n",
       "                            \"HMTL progress bar requires Jupyter Notebook >= \" +\n",
       "                            \"5.0 or Jupyter Lab. Alternatively, you can use \" +\n",
       "                            \"TerminalProgressBar().\");\n",
       "                        pb.parentNode.insertBefore(text, pb);\n",
       "                    }\n",
       "                </script>\n",
       "                <div id=\"b65a9a08-f9f9-4901-8f74-758bd49823ab\" style=\"\n",
       "                    width: 100%;\n",
       "                    border: 1px solid #cfcfcf;\n",
       "                    border-radius: 4px;\n",
       "                    text-align: center;\n",
       "                    position: relative;\">\n",
       "                  <div class=\"pb-text\" style=\"\n",
       "                      position: absolute;\n",
       "                      width: 100%;\">\n",
       "                    0%\n",
       "                  </div>\n",
       "                  <div class=\"pb-fill\" style=\"\n",
       "                      background-color: #bdd2e6;\n",
       "                      width: 0%;\">\n",
       "                    <style type=\"text/css\" scoped=\"scoped\">\n",
       "                        @keyframes pb-fill-anim {\n",
       "                            0% { background-position: 0 0; }\n",
       "                            100% { background-position: 100px 0; }\n",
       "                        }\n",
       "                    </style>\n",
       "                    &nbsp;\n",
       "                  </div>\n",
       "                </div>"
      ],
      "text/plain": [
       "HtmlProgressBar cannot be displayed. Please use the TerminalProgressBar. It can be enabled with `nengo.rc.set('progress', 'progress_bar', 'nengo.utils.progress.TerminalProgressBar')`."
      ]
     },
     "metadata": {},
     "output_type": "display_data"
    },
    {
     "data": {
      "application/vdom.v1+json": {
       "attributes": {
        "id": "78514fa2-4d6b-4ec7-a3e0-e44d5d18b7d7",
        "style": {
         "border": "1px solid #cfcfcf",
         "borderRadius": "4px",
         "boxSizing": "border-box",
         "position": "relative",
         "textAlign": "center",
         "width": "100%"
        }
       },
       "children": [
        {
         "attributes": {
          "class": "pb-text",
          "style": {
           "position": "absolute",
           "width": "100%"
          }
         },
         "children": [
          "Simulation finished in 0:01:37."
         ],
         "tagName": "div"
        },
        {
         "attributes": {
          "class": "pb-fill",
          "style": {
           "animation": "none",
           "backgroundColor": "#bdd2e6",
           "backgroundImage": "none",
           "transition": "width 0.1s linear",
           "width": "100%"
          }
         },
         "children": [
          {
           "attributes": {
            "scoped": "scoped",
            "type": "text/css"
           },
           "children": [
            "\n                        @keyframes pb-fill-anim {\n                            0% { background-position: 0 0; }\n                            100% { background-position: 100px 0; }\n                        }}"
           ],
           "tagName": "style"
          },
          " "
         ],
         "tagName": "div"
        }
       ],
       "tagName": "div"
      },
      "text/html": [
       "<script>\n",
       "              (function () {\n",
       "                  var root = document.getElementById('b65a9a08-f9f9-4901-8f74-758bd49823ab');\n",
       "                  var text = root.getElementsByClassName('pb-text')[0];\n",
       "                  var fill = root.getElementsByClassName('pb-fill')[0];\n",
       "\n",
       "                  text.innerHTML = 'Simulation finished in 0:01:37.';\n",
       "                  \n",
       "            if (100.0 > 0.) {\n",
       "                fill.style.transition = 'width 0.1s linear';\n",
       "            } else {\n",
       "                fill.style.transition = 'none';\n",
       "            }\n",
       "\n",
       "            fill.style.width = '100.0%';\n",
       "            fill.style.animation = 'none';\n",
       "            fill.style.backgroundImage = 'none'\n",
       "        \n",
       "                  \n",
       "                fill.style.animation = 'none';\n",
       "                fill.style.backgroundImage = 'none';\n",
       "            \n",
       "              })();\n",
       "        </script>"
      ]
     },
     "metadata": {},
     "output_type": "display_data"
    },
    {
     "name": "stdout",
     "output_type": "stream",
     "text": [
      "seed = 0\n",
      "D = 64\n",
      "n_stims = 4\n",
      "t_isi = 0.2\n",
      "t_stim = 1.0\n",
      "auto_direct = 0.3\n",
      "use_neurons = True\n",
      "decision = 'ia'\n",
      "output_threshold = 0.1\n",
      "ia_accum_timescale = 2.0\n",
      "attention_error = 0.0\n",
      "accuracy = [True, True, True, True, True, True, True, True, True, True, True, True]\n",
      "congruent = 0.8543154646059976\n",
      "incongruent = 0.7104357203447238\n",
      "neutral = 0.7090407906180198\n",
      "rt_congruent = 0.39975\n",
      "rt_incongruent = 0.462\n",
      "rt_neutral = 0.38625000000000004\n",
      "rts = [0.168, 0.459, 0.47500000000000003, 0.443, 0.382, 0.39, 0.399, 0.428, 0.429, 0.522, 0.46, 0.437]\n",
      "scores = array([0.74066957, 0.69274295, 0.66810987, 0.73464077, 0.92190612,\n",
      "       0.87243587, 0.84463182, 0.77828805, 0.78329577, 0.58800159,\n",
      "       0.70693315, 0.76351237])\n",
      "stimuli = [('NEUTRAL0', 'COLOR0', 'neutral'), ('NEUTRAL1', 'COLOR1', 'neutral'), ('NEUTRAL2', 'COLOR2', 'neutral'), ('NEUTRAL3', 'COLOR3', 'neutral'), ('COLOR0', 'COLOR0', 'congruent'), ('COLOR1', 'COLOR1', 'congruent'), ('COLOR2', 'COLOR2', 'congruent'), ('COLOR3', 'COLOR3', 'congruent'), ('COLOR1', 'COLOR0', 'incongruent'), ('COLOR2', 'COLOR1', 'incongruent'), ('COLOR3', 'COLOR2', 'incongruent'), ('COLOR0', 'COLOR3', 'incongruent')]\n"
     ]
    },
    {
     "data": {
      "image/png": "[encoded data removed]",
      "text/plain": [
       "<Figure size 864x288 with 2 Axes>"
      ]
     },
     "metadata": {},
     "output_type": "display_data"
    }
   ],
   "source": [
    "plt.figure(figsize=(12,4))\n",
    "r = StroopTrial().run(plt=plt, n_stims=4, data_dir=None, seed=0, D=64, auto_direct=0.3, use_neurons=True,\n",
    "                  decision='ia', ia_accum_timescale=2.0, t_stim=1.0, t_isi=0.2, attention_error=0.0)"
   ]
  },
  {
   "cell_type": "code",
   "execution_count": 57,
   "metadata": {},
   "outputs": [
    {
     "name": "stdout",
     "output_type": "stream",
     "text": [
      "10\n"
     ]
    },
    {
     "name": "stderr",
     "output_type": "stream",
     "text": [
      "c:\\users\\terry\\documents\\github\\nengo_spa\\nengo_spa\\vocabulary.py:173: UserWarning: Could not create a semantic pointer with max_similarity=0.10 (D=64, M=16, similarity=0.10)\n",
      "  len(self._key2idx), best_sim))\n",
      "c:\\users\\terry\\documents\\github\\nengo_spa\\nengo_spa\\vocabulary.py:173: UserWarning: Could not create a semantic pointer with max_similarity=0.10 (D=64, M=17, similarity=0.11)\n",
      "  len(self._key2idx), best_sim))\n",
      "c:\\users\\terry\\documents\\github\\nengo_spa\\nengo_spa\\vocabulary.py:173: UserWarning: Could not create a semantic pointer with max_similarity=0.10 (D=64, M=16, similarity=0.10)\n",
      "  len(self._key2idx), best_sim))\n",
      "c:\\users\\terry\\documents\\github\\nengo_spa\\nengo_spa\\vocabulary.py:173: UserWarning: Could not create a semantic pointer with max_similarity=0.10 (D=64, M=17, similarity=0.11)\n",
      "  len(self._key2idx), best_sim))\n",
      "c:\\users\\terry\\documents\\github\\nengo_spa\\nengo_spa\\vocabulary.py:173: UserWarning: Could not create a semantic pointer with max_similarity=0.10 (D=64, M=16, similarity=0.10)\n",
      "  len(self._key2idx), best_sim))\n",
      "c:\\users\\terry\\documents\\github\\nengo_spa\\nengo_spa\\vocabulary.py:173: UserWarning: Could not create a semantic pointer with max_similarity=0.10 (D=64, M=17, similarity=0.11)\n",
      "  len(self._key2idx), best_sim))\n",
      "c:\\users\\terry\\documents\\github\\nengo_spa\\nengo_spa\\vocabulary.py:173: UserWarning: Could not create a semantic pointer with max_similarity=0.10 (D=64, M=16, similarity=0.10)\n",
      "  len(self._key2idx), best_sim))\n",
      "c:\\users\\terry\\documents\\github\\nengo_spa\\nengo_spa\\vocabulary.py:173: UserWarning: Could not create a semantic pointer with max_similarity=0.10 (D=64, M=17, similarity=0.11)\n",
      "  len(self._key2idx), best_sim))\n",
      "c:\\users\\terry\\documents\\github\\nengo_spa\\nengo_spa\\vocabulary.py:173: UserWarning: Could not create a semantic pointer with max_similarity=0.10 (D=64, M=16, similarity=0.10)\n",
      "  len(self._key2idx), best_sim))\n",
      "c:\\users\\terry\\documents\\github\\nengo_spa\\nengo_spa\\vocabulary.py:173: UserWarning: Could not create a semantic pointer with max_similarity=0.10 (D=64, M=17, similarity=0.11)\n",
      "  len(self._key2idx), best_sim))\n",
      "c:\\users\\terry\\documents\\github\\nengo_spa\\nengo_spa\\vocabulary.py:173: UserWarning: Could not create a semantic pointer with max_similarity=0.10 (D=64, M=16, similarity=0.10)\n",
      "  len(self._key2idx), best_sim))\n",
      "c:\\users\\terry\\documents\\github\\nengo_spa\\nengo_spa\\vocabulary.py:173: UserWarning: Could not create a semantic pointer with max_similarity=0.10 (D=64, M=17, similarity=0.11)\n",
      "  len(self._key2idx), best_sim))\n",
      "c:\\users\\terry\\documents\\github\\nengo_spa\\nengo_spa\\vocabulary.py:173: UserWarning: Could not create a semantic pointer with max_similarity=0.10 (D=64, M=16, similarity=0.10)\n",
      "  len(self._key2idx), best_sim))\n",
      "c:\\users\\terry\\documents\\github\\nengo_spa\\nengo_spa\\vocabulary.py:173: UserWarning: Could not create a semantic pointer with max_similarity=0.10 (D=64, M=17, similarity=0.11)\n",
      "  len(self._key2idx), best_sim))\n",
      "c:\\users\\terry\\documents\\github\\nengo_spa\\nengo_spa\\vocabulary.py:173: UserWarning: Could not create a semantic pointer with max_similarity=0.10 (D=64, M=16, similarity=0.10)\n",
      "  len(self._key2idx), best_sim))\n",
      "c:\\users\\terry\\documents\\github\\nengo_spa\\nengo_spa\\vocabulary.py:173: UserWarning: Could not create a semantic pointer with max_similarity=0.10 (D=64, M=17, similarity=0.11)\n",
      "  len(self._key2idx), best_sim))\n",
      "c:\\users\\terry\\documents\\github\\nengo_spa\\nengo_spa\\vocabulary.py:173: UserWarning: Could not create a semantic pointer with max_similarity=0.10 (D=64, M=16, similarity=0.10)\n",
      "  len(self._key2idx), best_sim))\n",
      "c:\\users\\terry\\documents\\github\\nengo_spa\\nengo_spa\\vocabulary.py:173: UserWarning: Could not create a semantic pointer with max_similarity=0.10 (D=64, M=17, similarity=0.11)\n",
      "  len(self._key2idx), best_sim))\n",
      "c:\\users\\terry\\documents\\github\\nengo_spa\\nengo_spa\\vocabulary.py:173: UserWarning: Could not create a semantic pointer with max_similarity=0.10 (D=64, M=16, similarity=0.10)\n",
      "  len(self._key2idx), best_sim))\n",
      "c:\\users\\terry\\documents\\github\\nengo_spa\\nengo_spa\\vocabulary.py:173: UserWarning: Could not create a semantic pointer with max_similarity=0.10 (D=64, M=17, similarity=0.11)\n",
      "  len(self._key2idx), best_sim))\n"
     ]
    },
    {
     "name": "stdout",
     "output_type": "stream",
     "text": [
      "11\n"
     ]
    },
    {
     "name": "stderr",
     "output_type": "stream",
     "text": [
      "c:\\users\\terry\\documents\\github\\nengo_spa\\nengo_spa\\vocabulary.py:173: UserWarning: Could not create a semantic pointer with max_similarity=0.10 (D=64, M=13, similarity=0.10)\n",
      "  len(self._key2idx), best_sim))\n",
      "c:\\users\\terry\\documents\\github\\nengo_spa\\nengo_spa\\vocabulary.py:173: UserWarning: Could not create a semantic pointer with max_similarity=0.10 (D=64, M=16, similarity=0.11)\n",
      "  len(self._key2idx), best_sim))\n",
      "c:\\users\\terry\\documents\\github\\nengo_spa\\nengo_spa\\vocabulary.py:173: UserWarning: Could not create a semantic pointer with max_similarity=0.10 (D=64, M=17, similarity=0.11)\n",
      "  len(self._key2idx), best_sim))\n",
      "c:\\users\\terry\\documents\\github\\nengo_spa\\nengo_spa\\vocabulary.py:173: UserWarning: Could not create a semantic pointer with max_similarity=0.10 (D=64, M=13, similarity=0.10)\n",
      "  len(self._key2idx), best_sim))\n",
      "c:\\users\\terry\\documents\\github\\nengo_spa\\nengo_spa\\vocabulary.py:173: UserWarning: Could not create a semantic pointer with max_similarity=0.10 (D=64, M=16, similarity=0.11)\n",
      "  len(self._key2idx), best_sim))\n",
      "c:\\users\\terry\\documents\\github\\nengo_spa\\nengo_spa\\vocabulary.py:173: UserWarning: Could not create a semantic pointer with max_similarity=0.10 (D=64, M=17, similarity=0.11)\n",
      "  len(self._key2idx), best_sim))\n",
      "c:\\users\\terry\\documents\\github\\nengo_spa\\nengo_spa\\vocabulary.py:173: UserWarning: Could not create a semantic pointer with max_similarity=0.10 (D=64, M=13, similarity=0.10)\n",
      "  len(self._key2idx), best_sim))\n",
      "c:\\users\\terry\\documents\\github\\nengo_spa\\nengo_spa\\vocabulary.py:173: UserWarning: Could not create a semantic pointer with max_similarity=0.10 (D=64, M=16, similarity=0.11)\n",
      "  len(self._key2idx), best_sim))\n",
      "c:\\users\\terry\\documents\\github\\nengo_spa\\nengo_spa\\vocabulary.py:173: UserWarning: Could not create a semantic pointer with max_similarity=0.10 (D=64, M=17, similarity=0.11)\n",
      "  len(self._key2idx), best_sim))\n",
      "c:\\users\\terry\\documents\\github\\nengo_spa\\nengo_spa\\vocabulary.py:173: UserWarning: Could not create a semantic pointer with max_similarity=0.10 (D=64, M=13, similarity=0.10)\n",
      "  len(self._key2idx), best_sim))\n",
      "c:\\users\\terry\\documents\\github\\nengo_spa\\nengo_spa\\vocabulary.py:173: UserWarning: Could not create a semantic pointer with max_similarity=0.10 (D=64, M=16, similarity=0.11)\n",
      "  len(self._key2idx), best_sim))\n",
      "c:\\users\\terry\\documents\\github\\nengo_spa\\nengo_spa\\vocabulary.py:173: UserWarning: Could not create a semantic pointer with max_similarity=0.10 (D=64, M=17, similarity=0.11)\n",
      "  len(self._key2idx), best_sim))\n",
      "c:\\users\\terry\\documents\\github\\nengo_spa\\nengo_spa\\vocabulary.py:173: UserWarning: Could not create a semantic pointer with max_similarity=0.10 (D=64, M=13, similarity=0.10)\n",
      "  len(self._key2idx), best_sim))\n",
      "c:\\users\\terry\\documents\\github\\nengo_spa\\nengo_spa\\vocabulary.py:173: UserWarning: Could not create a semantic pointer with max_similarity=0.10 (D=64, M=16, similarity=0.11)\n",
      "  len(self._key2idx), best_sim))\n",
      "c:\\users\\terry\\documents\\github\\nengo_spa\\nengo_spa\\vocabulary.py:173: UserWarning: Could not create a semantic pointer with max_similarity=0.10 (D=64, M=17, similarity=0.11)\n",
      "  len(self._key2idx), best_sim))\n",
      "c:\\users\\terry\\documents\\github\\nengo_spa\\nengo_spa\\vocabulary.py:173: UserWarning: Could not create a semantic pointer with max_similarity=0.10 (D=64, M=13, similarity=0.10)\n",
      "  len(self._key2idx), best_sim))\n",
      "c:\\users\\terry\\documents\\github\\nengo_spa\\nengo_spa\\vocabulary.py:173: UserWarning: Could not create a semantic pointer with max_similarity=0.10 (D=64, M=16, similarity=0.11)\n",
      "  len(self._key2idx), best_sim))\n",
      "c:\\users\\terry\\documents\\github\\nengo_spa\\nengo_spa\\vocabulary.py:173: UserWarning: Could not create a semantic pointer with max_similarity=0.10 (D=64, M=17, similarity=0.11)\n",
      "  len(self._key2idx), best_sim))\n",
      "c:\\users\\terry\\documents\\github\\nengo_spa\\nengo_spa\\vocabulary.py:173: UserWarning: Could not create a semantic pointer with max_similarity=0.10 (D=64, M=13, similarity=0.10)\n",
      "  len(self._key2idx), best_sim))\n",
      "c:\\users\\terry\\documents\\github\\nengo_spa\\nengo_spa\\vocabulary.py:173: UserWarning: Could not create a semantic pointer with max_similarity=0.10 (D=64, M=16, similarity=0.11)\n",
      "  len(self._key2idx), best_sim))\n",
      "c:\\users\\terry\\documents\\github\\nengo_spa\\nengo_spa\\vocabulary.py:173: UserWarning: Could not create a semantic pointer with max_similarity=0.10 (D=64, M=17, similarity=0.11)\n",
      "  len(self._key2idx), best_sim))\n",
      "c:\\users\\terry\\documents\\github\\nengo_spa\\nengo_spa\\vocabulary.py:173: UserWarning: Could not create a semantic pointer with max_similarity=0.10 (D=64, M=13, similarity=0.10)\n",
      "  len(self._key2idx), best_sim))\n",
      "c:\\users\\terry\\documents\\github\\nengo_spa\\nengo_spa\\vocabulary.py:173: UserWarning: Could not create a semantic pointer with max_similarity=0.10 (D=64, M=16, similarity=0.11)\n",
      "  len(self._key2idx), best_sim))\n",
      "c:\\users\\terry\\documents\\github\\nengo_spa\\nengo_spa\\vocabulary.py:173: UserWarning: Could not create a semantic pointer with max_similarity=0.10 (D=64, M=17, similarity=0.11)\n",
      "  len(self._key2idx), best_sim))\n",
      "c:\\users\\terry\\documents\\github\\nengo_spa\\nengo_spa\\vocabulary.py:173: UserWarning: Could not create a semantic pointer with max_similarity=0.10 (D=64, M=13, similarity=0.10)\n",
      "  len(self._key2idx), best_sim))\n",
      "c:\\users\\terry\\documents\\github\\nengo_spa\\nengo_spa\\vocabulary.py:173: UserWarning: Could not create a semantic pointer with max_similarity=0.10 (D=64, M=16, similarity=0.11)\n",
      "  len(self._key2idx), best_sim))\n",
      "c:\\users\\terry\\documents\\github\\nengo_spa\\nengo_spa\\vocabulary.py:173: UserWarning: Could not create a semantic pointer with max_similarity=0.10 (D=64, M=17, similarity=0.11)\n",
      "  len(self._key2idx), best_sim))\n",
      "c:\\users\\terry\\documents\\github\\nengo_spa\\nengo_spa\\vocabulary.py:173: UserWarning: Could not create a semantic pointer with max_similarity=0.10 (D=64, M=13, similarity=0.10)\n",
      "  len(self._key2idx), best_sim))\n",
      "c:\\users\\terry\\documents\\github\\nengo_spa\\nengo_spa\\vocabulary.py:173: UserWarning: Could not create a semantic pointer with max_similarity=0.10 (D=64, M=16, similarity=0.11)\n",
      "  len(self._key2idx), best_sim))\n",
      "c:\\users\\terry\\documents\\github\\nengo_spa\\nengo_spa\\vocabulary.py:173: UserWarning: Could not create a semantic pointer with max_similarity=0.10 (D=64, M=17, similarity=0.11)\n",
      "  len(self._key2idx), best_sim))\n"
     ]
    },
    {
     "name": "stdout",
     "output_type": "stream",
     "text": [
      "12\n"
     ]
    },
    {
     "name": "stderr",
     "output_type": "stream",
     "text": [
      "c:\\users\\terry\\documents\\github\\nengo_spa\\nengo_spa\\vocabulary.py:173: UserWarning: Could not create a semantic pointer with max_similarity=0.10 (D=64, M=14, similarity=0.10)\n",
      "  len(self._key2idx), best_sim))\n",
      "c:\\users\\terry\\documents\\github\\nengo_spa\\nengo_spa\\vocabulary.py:173: UserWarning: Could not create a semantic pointer with max_similarity=0.10 (D=64, M=17, similarity=0.11)\n",
      "  len(self._key2idx), best_sim))\n",
      "c:\\users\\terry\\documents\\github\\nengo_spa\\nengo_spa\\vocabulary.py:173: UserWarning: Could not create a semantic pointer with max_similarity=0.10 (D=64, M=14, similarity=0.10)\n",
      "  len(self._key2idx), best_sim))\n",
      "c:\\users\\terry\\documents\\github\\nengo_spa\\nengo_spa\\vocabulary.py:173: UserWarning: Could not create a semantic pointer with max_similarity=0.10 (D=64, M=17, similarity=0.11)\n",
      "  len(self._key2idx), best_sim))\n",
      "c:\\users\\terry\\documents\\github\\nengo_spa\\nengo_spa\\vocabulary.py:173: UserWarning: Could not create a semantic pointer with max_similarity=0.10 (D=64, M=14, similarity=0.10)\n",
      "  len(self._key2idx), best_sim))\n",
      "c:\\users\\terry\\documents\\github\\nengo_spa\\nengo_spa\\vocabulary.py:173: UserWarning: Could not create a semantic pointer with max_similarity=0.10 (D=64, M=17, similarity=0.11)\n",
      "  len(self._key2idx), best_sim))\n",
      "c:\\users\\terry\\documents\\github\\nengo_spa\\nengo_spa\\vocabulary.py:173: UserWarning: Could not create a semantic pointer with max_similarity=0.10 (D=64, M=14, similarity=0.10)\n",
      "  len(self._key2idx), best_sim))\n",
      "c:\\users\\terry\\documents\\github\\nengo_spa\\nengo_spa\\vocabulary.py:173: UserWarning: Could not create a semantic pointer with max_similarity=0.10 (D=64, M=17, similarity=0.11)\n",
      "  len(self._key2idx), best_sim))\n",
      "c:\\users\\terry\\documents\\github\\nengo_spa\\nengo_spa\\vocabulary.py:173: UserWarning: Could not create a semantic pointer with max_similarity=0.10 (D=64, M=14, similarity=0.10)\n",
      "  len(self._key2idx), best_sim))\n",
      "c:\\users\\terry\\documents\\github\\nengo_spa\\nengo_spa\\vocabulary.py:173: UserWarning: Could not create a semantic pointer with max_similarity=0.10 (D=64, M=17, similarity=0.11)\n",
      "  len(self._key2idx), best_sim))\n",
      "c:\\users\\terry\\documents\\github\\nengo_spa\\nengo_spa\\vocabulary.py:173: UserWarning: Could not create a semantic pointer with max_similarity=0.10 (D=64, M=14, similarity=0.10)\n",
      "  len(self._key2idx), best_sim))\n",
      "c:\\users\\terry\\documents\\github\\nengo_spa\\nengo_spa\\vocabulary.py:173: UserWarning: Could not create a semantic pointer with max_similarity=0.10 (D=64, M=17, similarity=0.11)\n",
      "  len(self._key2idx), best_sim))\n",
      "c:\\users\\terry\\documents\\github\\nengo_spa\\nengo_spa\\vocabulary.py:173: UserWarning: Could not create a semantic pointer with max_similarity=0.10 (D=64, M=14, similarity=0.10)\n",
      "  len(self._key2idx), best_sim))\n",
      "c:\\users\\terry\\documents\\github\\nengo_spa\\nengo_spa\\vocabulary.py:173: UserWarning: Could not create a semantic pointer with max_similarity=0.10 (D=64, M=17, similarity=0.11)\n",
      "  len(self._key2idx), best_sim))\n",
      "c:\\users\\terry\\documents\\github\\nengo_spa\\nengo_spa\\vocabulary.py:173: UserWarning: Could not create a semantic pointer with max_similarity=0.10 (D=64, M=14, similarity=0.10)\n",
      "  len(self._key2idx), best_sim))\n",
      "c:\\users\\terry\\documents\\github\\nengo_spa\\nengo_spa\\vocabulary.py:173: UserWarning: Could not create a semantic pointer with max_similarity=0.10 (D=64, M=17, similarity=0.11)\n",
      "  len(self._key2idx), best_sim))\n",
      "c:\\users\\terry\\documents\\github\\nengo_spa\\nengo_spa\\vocabulary.py:173: UserWarning: Could not create a semantic pointer with max_similarity=0.10 (D=64, M=14, similarity=0.10)\n",
      "  len(self._key2idx), best_sim))\n",
      "c:\\users\\terry\\documents\\github\\nengo_spa\\nengo_spa\\vocabulary.py:173: UserWarning: Could not create a semantic pointer with max_similarity=0.10 (D=64, M=17, similarity=0.11)\n",
      "  len(self._key2idx), best_sim))\n",
      "c:\\users\\terry\\documents\\github\\nengo_spa\\nengo_spa\\vocabulary.py:173: UserWarning: Could not create a semantic pointer with max_similarity=0.10 (D=64, M=14, similarity=0.10)\n",
      "  len(self._key2idx), best_sim))\n",
      "c:\\users\\terry\\documents\\github\\nengo_spa\\nengo_spa\\vocabulary.py:173: UserWarning: Could not create a semantic pointer with max_similarity=0.10 (D=64, M=17, similarity=0.11)\n",
      "  len(self._key2idx), best_sim))\n"
     ]
    },
    {
     "name": "stdout",
     "output_type": "stream",
     "text": [
      "13\n"
     ]
    },
    {
     "name": "stderr",
     "output_type": "stream",
     "text": [
      "c:\\users\\terry\\documents\\github\\nengo_spa\\nengo_spa\\vocabulary.py:173: UserWarning: Could not create a semantic pointer with max_similarity=0.10 (D=64, M=15, similarity=0.11)\n",
      "  len(self._key2idx), best_sim))\n",
      "c:\\users\\terry\\documents\\github\\nengo_spa\\nengo_spa\\vocabulary.py:173: UserWarning: Could not create a semantic pointer with max_similarity=0.10 (D=64, M=17, similarity=0.11)\n",
      "  len(self._key2idx), best_sim))\n",
      "c:\\users\\terry\\documents\\github\\nengo_spa\\nengo_spa\\vocabulary.py:173: UserWarning: Could not create a semantic pointer with max_similarity=0.10 (D=64, M=15, similarity=0.11)\n",
      "  len(self._key2idx), best_sim))\n",
      "c:\\users\\terry\\documents\\github\\nengo_spa\\nengo_spa\\vocabulary.py:173: UserWarning: Could not create a semantic pointer with max_similarity=0.10 (D=64, M=17, similarity=0.11)\n",
      "  len(self._key2idx), best_sim))\n",
      "c:\\users\\terry\\documents\\github\\nengo_spa\\nengo_spa\\vocabulary.py:173: UserWarning: Could not create a semantic pointer with max_similarity=0.10 (D=64, M=15, similarity=0.11)\n",
      "  len(self._key2idx), best_sim))\n",
      "c:\\users\\terry\\documents\\github\\nengo_spa\\nengo_spa\\vocabulary.py:173: UserWarning: Could not create a semantic pointer with max_similarity=0.10 (D=64, M=17, similarity=0.11)\n",
      "  len(self._key2idx), best_sim))\n",
      "c:\\users\\terry\\documents\\github\\nengo_spa\\nengo_spa\\vocabulary.py:173: UserWarning: Could not create a semantic pointer with max_similarity=0.10 (D=64, M=15, similarity=0.11)\n",
      "  len(self._key2idx), best_sim))\n",
      "c:\\users\\terry\\documents\\github\\nengo_spa\\nengo_spa\\vocabulary.py:173: UserWarning: Could not create a semantic pointer with max_similarity=0.10 (D=64, M=17, similarity=0.11)\n",
      "  len(self._key2idx), best_sim))\n",
      "c:\\users\\terry\\documents\\github\\nengo_spa\\nengo_spa\\vocabulary.py:173: UserWarning: Could not create a semantic pointer with max_similarity=0.10 (D=64, M=15, similarity=0.11)\n",
      "  len(self._key2idx), best_sim))\n",
      "c:\\users\\terry\\documents\\github\\nengo_spa\\nengo_spa\\vocabulary.py:173: UserWarning: Could not create a semantic pointer with max_similarity=0.10 (D=64, M=17, similarity=0.11)\n",
      "  len(self._key2idx), best_sim))\n",
      "c:\\users\\terry\\documents\\github\\nengo_spa\\nengo_spa\\vocabulary.py:173: UserWarning: Could not create a semantic pointer with max_similarity=0.10 (D=64, M=15, similarity=0.11)\n",
      "  len(self._key2idx), best_sim))\n",
      "c:\\users\\terry\\documents\\github\\nengo_spa\\nengo_spa\\vocabulary.py:173: UserWarning: Could not create a semantic pointer with max_similarity=0.10 (D=64, M=17, similarity=0.11)\n",
      "  len(self._key2idx), best_sim))\n",
      "c:\\users\\terry\\documents\\github\\nengo_spa\\nengo_spa\\vocabulary.py:173: UserWarning: Could not create a semantic pointer with max_similarity=0.10 (D=64, M=15, similarity=0.11)\n",
      "  len(self._key2idx), best_sim))\n",
      "c:\\users\\terry\\documents\\github\\nengo_spa\\nengo_spa\\vocabulary.py:173: UserWarning: Could not create a semantic pointer with max_similarity=0.10 (D=64, M=17, similarity=0.11)\n",
      "  len(self._key2idx), best_sim))\n",
      "c:\\users\\terry\\documents\\github\\nengo_spa\\nengo_spa\\vocabulary.py:173: UserWarning: Could not create a semantic pointer with max_similarity=0.10 (D=64, M=15, similarity=0.11)\n",
      "  len(self._key2idx), best_sim))\n",
      "c:\\users\\terry\\documents\\github\\nengo_spa\\nengo_spa\\vocabulary.py:173: UserWarning: Could not create a semantic pointer with max_similarity=0.10 (D=64, M=17, similarity=0.11)\n",
      "  len(self._key2idx), best_sim))\n",
      "c:\\users\\terry\\documents\\github\\nengo_spa\\nengo_spa\\vocabulary.py:173: UserWarning: Could not create a semantic pointer with max_similarity=0.10 (D=64, M=15, similarity=0.11)\n",
      "  len(self._key2idx), best_sim))\n",
      "c:\\users\\terry\\documents\\github\\nengo_spa\\nengo_spa\\vocabulary.py:173: UserWarning: Could not create a semantic pointer with max_similarity=0.10 (D=64, M=17, similarity=0.11)\n",
      "  len(self._key2idx), best_sim))\n",
      "c:\\users\\terry\\documents\\github\\nengo_spa\\nengo_spa\\vocabulary.py:173: UserWarning: Could not create a semantic pointer with max_similarity=0.10 (D=64, M=15, similarity=0.11)\n",
      "  len(self._key2idx), best_sim))\n",
      "c:\\users\\terry\\documents\\github\\nengo_spa\\nengo_spa\\vocabulary.py:173: UserWarning: Could not create a semantic pointer with max_similarity=0.10 (D=64, M=17, similarity=0.11)\n",
      "  len(self._key2idx), best_sim))\n"
     ]
    },
    {
     "name": "stdout",
     "output_type": "stream",
     "text": [
      "14\n"
     ]
    },
    {
     "name": "stderr",
     "output_type": "stream",
     "text": [
      "c:\\users\\terry\\documents\\github\\nengo_spa\\nengo_spa\\vocabulary.py:173: UserWarning: Could not create a semantic pointer with max_similarity=0.10 (D=64, M=17, similarity=0.11)\n",
      "  len(self._key2idx), best_sim))\n",
      "c:\\users\\terry\\documents\\github\\nengo_spa\\nengo_spa\\vocabulary.py:173: UserWarning: Could not create a semantic pointer with max_similarity=0.10 (D=64, M=17, similarity=0.11)\n",
      "  len(self._key2idx), best_sim))\n",
      "c:\\users\\terry\\documents\\github\\nengo_spa\\nengo_spa\\vocabulary.py:173: UserWarning: Could not create a semantic pointer with max_similarity=0.10 (D=64, M=17, similarity=0.11)\n",
      "  len(self._key2idx), best_sim))\n",
      "c:\\users\\terry\\documents\\github\\nengo_spa\\nengo_spa\\vocabulary.py:173: UserWarning: Could not create a semantic pointer with max_similarity=0.10 (D=64, M=17, similarity=0.11)\n",
      "  len(self._key2idx), best_sim))\n",
      "c:\\users\\terry\\documents\\github\\nengo_spa\\nengo_spa\\vocabulary.py:173: UserWarning: Could not create a semantic pointer with max_similarity=0.10 (D=64, M=17, similarity=0.11)\n",
      "  len(self._key2idx), best_sim))\n",
      "c:\\users\\terry\\documents\\github\\nengo_spa\\nengo_spa\\vocabulary.py:173: UserWarning: Could not create a semantic pointer with max_similarity=0.10 (D=64, M=17, similarity=0.11)\n",
      "  len(self._key2idx), best_sim))\n",
      "c:\\users\\terry\\documents\\github\\nengo_spa\\nengo_spa\\vocabulary.py:173: UserWarning: Could not create a semantic pointer with max_similarity=0.10 (D=64, M=17, similarity=0.11)\n",
      "  len(self._key2idx), best_sim))\n",
      "c:\\users\\terry\\documents\\github\\nengo_spa\\nengo_spa\\vocabulary.py:173: UserWarning: Could not create a semantic pointer with max_similarity=0.10 (D=64, M=17, similarity=0.11)\n",
      "  len(self._key2idx), best_sim))\n",
      "c:\\users\\terry\\documents\\github\\nengo_spa\\nengo_spa\\vocabulary.py:173: UserWarning: Could not create a semantic pointer with max_similarity=0.10 (D=64, M=17, similarity=0.11)\n",
      "  len(self._key2idx), best_sim))\n",
      "c:\\users\\terry\\documents\\github\\nengo_spa\\nengo_spa\\vocabulary.py:173: UserWarning: Could not create a semantic pointer with max_similarity=0.10 (D=64, M=17, similarity=0.11)\n",
      "  len(self._key2idx), best_sim))\n"
     ]
    },
    {
     "name": "stdout",
     "output_type": "stream",
     "text": [
      "15\n"
     ]
    },
    {
     "name": "stderr",
     "output_type": "stream",
     "text": [
      "c:\\users\\terry\\documents\\github\\nengo_spa\\nengo_spa\\vocabulary.py:173: UserWarning: Could not create a semantic pointer with max_similarity=0.10 (D=64, M=15, similarity=0.11)\n",
      "  len(self._key2idx), best_sim))\n",
      "c:\\users\\terry\\documents\\github\\nengo_spa\\nengo_spa\\vocabulary.py:173: UserWarning: Could not create a semantic pointer with max_similarity=0.10 (D=64, M=15, similarity=0.11)\n",
      "  len(self._key2idx), best_sim))\n",
      "c:\\users\\terry\\documents\\github\\nengo_spa\\nengo_spa\\vocabulary.py:173: UserWarning: Could not create a semantic pointer with max_similarity=0.10 (D=64, M=15, similarity=0.11)\n",
      "  len(self._key2idx), best_sim))\n",
      "c:\\users\\terry\\documents\\github\\nengo_spa\\nengo_spa\\vocabulary.py:173: UserWarning: Could not create a semantic pointer with max_similarity=0.10 (D=64, M=15, similarity=0.11)\n",
      "  len(self._key2idx), best_sim))\n",
      "c:\\users\\terry\\documents\\github\\nengo_spa\\nengo_spa\\vocabulary.py:173: UserWarning: Could not create a semantic pointer with max_similarity=0.10 (D=64, M=15, similarity=0.11)\n",
      "  len(self._key2idx), best_sim))\n",
      "c:\\users\\terry\\documents\\github\\nengo_spa\\nengo_spa\\vocabulary.py:173: UserWarning: Could not create a semantic pointer with max_similarity=0.10 (D=64, M=15, similarity=0.11)\n",
      "  len(self._key2idx), best_sim))\n",
      "c:\\users\\terry\\documents\\github\\nengo_spa\\nengo_spa\\vocabulary.py:173: UserWarning: Could not create a semantic pointer with max_similarity=0.10 (D=64, M=15, similarity=0.11)\n",
      "  len(self._key2idx), best_sim))\n",
      "c:\\users\\terry\\documents\\github\\nengo_spa\\nengo_spa\\vocabulary.py:173: UserWarning: Could not create a semantic pointer with max_similarity=0.10 (D=64, M=15, similarity=0.11)\n",
      "  len(self._key2idx), best_sim))\n",
      "c:\\users\\terry\\documents\\github\\nengo_spa\\nengo_spa\\vocabulary.py:173: UserWarning: Could not create a semantic pointer with max_similarity=0.10 (D=64, M=15, similarity=0.11)\n",
      "  len(self._key2idx), best_sim))\n",
      "c:\\users\\terry\\documents\\github\\nengo_spa\\nengo_spa\\vocabulary.py:173: UserWarning: Could not create a semantic pointer with max_similarity=0.10 (D=64, M=15, similarity=0.11)\n",
      "  len(self._key2idx), best_sim))\n"
     ]
    },
    {
     "name": "stdout",
     "output_type": "stream",
     "text": [
      "16\n",
      "17\n"
     ]
    },
    {
     "name": "stderr",
     "output_type": "stream",
     "text": [
      "c:\\users\\terry\\documents\\github\\nengo_spa\\nengo_spa\\vocabulary.py:173: UserWarning: Could not create a semantic pointer with max_similarity=0.10 (D=64, M=17, similarity=0.13)\n",
      "  len(self._key2idx), best_sim))\n",
      "c:\\users\\terry\\documents\\github\\nengo_spa\\nengo_spa\\vocabulary.py:173: UserWarning: Could not create a semantic pointer with max_similarity=0.10 (D=64, M=17, similarity=0.13)\n",
      "  len(self._key2idx), best_sim))\n",
      "c:\\users\\terry\\documents\\github\\nengo_spa\\nengo_spa\\vocabulary.py:173: UserWarning: Could not create a semantic pointer with max_similarity=0.10 (D=64, M=17, similarity=0.13)\n",
      "  len(self._key2idx), best_sim))\n",
      "c:\\users\\terry\\documents\\github\\nengo_spa\\nengo_spa\\vocabulary.py:173: UserWarning: Could not create a semantic pointer with max_similarity=0.10 (D=64, M=17, similarity=0.13)\n",
      "  len(self._key2idx), best_sim))\n",
      "c:\\users\\terry\\documents\\github\\nengo_spa\\nengo_spa\\vocabulary.py:173: UserWarning: Could not create a semantic pointer with max_similarity=0.10 (D=64, M=17, similarity=0.13)\n",
      "  len(self._key2idx), best_sim))\n",
      "c:\\users\\terry\\documents\\github\\nengo_spa\\nengo_spa\\vocabulary.py:173: UserWarning: Could not create a semantic pointer with max_similarity=0.10 (D=64, M=17, similarity=0.13)\n",
      "  len(self._key2idx), best_sim))\n",
      "c:\\users\\terry\\documents\\github\\nengo_spa\\nengo_spa\\vocabulary.py:173: UserWarning: Could not create a semantic pointer with max_similarity=0.10 (D=64, M=17, similarity=0.13)\n",
      "  len(self._key2idx), best_sim))\n",
      "c:\\users\\terry\\documents\\github\\nengo_spa\\nengo_spa\\vocabulary.py:173: UserWarning: Could not create a semantic pointer with max_similarity=0.10 (D=64, M=17, similarity=0.13)\n",
      "  len(self._key2idx), best_sim))\n",
      "c:\\users\\terry\\documents\\github\\nengo_spa\\nengo_spa\\vocabulary.py:173: UserWarning: Could not create a semantic pointer with max_similarity=0.10 (D=64, M=17, similarity=0.13)\n",
      "  len(self._key2idx), best_sim))\n",
      "c:\\users\\terry\\documents\\github\\nengo_spa\\nengo_spa\\vocabulary.py:173: UserWarning: Could not create a semantic pointer with max_similarity=0.10 (D=64, M=17, similarity=0.13)\n",
      "  len(self._key2idx), best_sim))\n"
     ]
    },
    {
     "name": "stdout",
     "output_type": "stream",
     "text": [
      "18\n",
      "19\n"
     ]
    },
    {
     "name": "stderr",
     "output_type": "stream",
     "text": [
      "c:\\users\\terry\\documents\\github\\nengo_spa\\nengo_spa\\vocabulary.py:173: UserWarning: Could not create a semantic pointer with max_similarity=0.10 (D=64, M=16, similarity=0.12)\n",
      "  len(self._key2idx), best_sim))\n",
      "c:\\users\\terry\\documents\\github\\nengo_spa\\nengo_spa\\vocabulary.py:173: UserWarning: Could not create a semantic pointer with max_similarity=0.10 (D=64, M=16, similarity=0.12)\n",
      "  len(self._key2idx), best_sim))\n",
      "c:\\users\\terry\\documents\\github\\nengo_spa\\nengo_spa\\vocabulary.py:173: UserWarning: Could not create a semantic pointer with max_similarity=0.10 (D=64, M=16, similarity=0.12)\n",
      "  len(self._key2idx), best_sim))\n",
      "c:\\users\\terry\\documents\\github\\nengo_spa\\nengo_spa\\vocabulary.py:173: UserWarning: Could not create a semantic pointer with max_similarity=0.10 (D=64, M=16, similarity=0.12)\n",
      "  len(self._key2idx), best_sim))\n",
      "c:\\users\\terry\\documents\\github\\nengo_spa\\nengo_spa\\vocabulary.py:173: UserWarning: Could not create a semantic pointer with max_similarity=0.10 (D=64, M=16, similarity=0.12)\n",
      "  len(self._key2idx), best_sim))\n",
      "c:\\users\\terry\\documents\\github\\nengo_spa\\nengo_spa\\vocabulary.py:173: UserWarning: Could not create a semantic pointer with max_similarity=0.10 (D=64, M=16, similarity=0.12)\n",
      "  len(self._key2idx), best_sim))\n",
      "c:\\users\\terry\\documents\\github\\nengo_spa\\nengo_spa\\vocabulary.py:173: UserWarning: Could not create a semantic pointer with max_similarity=0.10 (D=64, M=16, similarity=0.12)\n",
      "  len(self._key2idx), best_sim))\n",
      "c:\\users\\terry\\documents\\github\\nengo_spa\\nengo_spa\\vocabulary.py:173: UserWarning: Could not create a semantic pointer with max_similarity=0.10 (D=64, M=16, similarity=0.12)\n",
      "  len(self._key2idx), best_sim))\n",
      "c:\\users\\terry\\documents\\github\\nengo_spa\\nengo_spa\\vocabulary.py:173: UserWarning: Could not create a semantic pointer with max_similarity=0.10 (D=64, M=16, similarity=0.12)\n",
      "  len(self._key2idx), best_sim))\n",
      "c:\\users\\terry\\documents\\github\\nengo_spa\\nengo_spa\\vocabulary.py:173: UserWarning: Could not create a semantic pointer with max_similarity=0.10 (D=64, M=16, similarity=0.12)\n",
      "  len(self._key2idx), best_sim))\n"
     ]
    }
   ],
   "source": [
    "for seed in range(10, 20):\n",
    "    print(seed)\n",
    "    for auto_direct in [0.0, 0.1, 0.2, 0.3, 0.4]:\n",
    "        StroopTrial().run(n_stims=8, data_dir='exp2', seed=seed, D=64, verbose=False, auto_direct=auto_direct)        \n",
    "        StroopTrial().run(n_stims=8, data_dir='exp3', seed=seed, D=64, verbose=False, auto_direct=auto_direct, use_neurons=False)"
   ]
  },
  {
   "cell_type": "code",
   "execution_count": null,
   "metadata": {
    "collapsed": true
   },
   "outputs": [],
   "source": []
  },
  {
   "cell_type": "code",
   "execution_count": 58,
   "metadata": {},
   "outputs": [
    {
     "data": {
      "text/plain": [
       "<matplotlib.axes._subplots.AxesSubplot at 0x11b850f1128>"
      ]
     },
     "execution_count": 58,
     "metadata": {},
     "output_type": "execute_result"
    },
    {
     "data": {
      "image/png": "[encoded data removed]",
      "text/plain": [
       "<Figure size 432x288 with 1 Axes>"
      ]
     },
     "metadata": {},
     "output_type": "display_data"
    }
   ],
   "source": [
    "data = []\n",
    "for d in pytry.read('exp2'):\n",
    "    score = d['scores']\n",
    "    stimuli = d['stimuli']\n",
    "    for i in range(len(score)):\n",
    "        d2 = dict(d)\n",
    "        del d2['scores']\n",
    "        del d2['stimuli']\n",
    "        d2['score'] = score[i]\n",
    "        d2['type'] = stimuli[i][2]\n",
    "        data.append(d2)\n",
    "df = pandas.DataFrame(data)\n",
    "seaborn.barplot('type', 'score', hue='auto_direct', data=df)        "
   ]
  },
  {
   "cell_type": "code",
   "execution_count": 59,
   "metadata": {},
   "outputs": [
    {
     "data": {
      "text/plain": [
       "<matplotlib.axes._subplots.AxesSubplot at 0x11b8743e588>"
      ]
     },
     "execution_count": 59,
     "metadata": {},
     "output_type": "execute_result"
    },
    {
     "data": {
      "image/png": "[encoded data removed]",
      "text/plain": [
       "<Figure size 432x288 with 1 Axes>"
      ]
     },
     "metadata": {},
     "output_type": "display_data"
    }
   ],
   "source": [
    "data = []\n",
    "for d in pytry.read('exp3'):\n",
    "    score = d['scores']\n",
    "    stimuli = d['stimuli']\n",
    "    for i in range(len(score)):\n",
    "        d2 = dict(d)\n",
    "        del d2['scores']\n",
    "        del d2['stimuli']\n",
    "        d2['score'] = score[i]\n",
    "        d2['type'] = stimuli[i][2]\n",
    "        data.append(d2)\n",
    "df = pandas.DataFrame(data)\n",
    "seaborn.barplot('type', 'score', hue='auto_direct', data=df)\n",
    "        "
   ]
  },
  {
   "cell_type": "code",
   "execution_count": null,
   "metadata": {
    "collapsed": true
   },
   "outputs": [],
   "source": []
  }
 ],
 "metadata": {
  "kernelspec": {
   "display_name": "Python 3",
   "language": "python",
   "name": "python3"
  },
  "language_info": {
   "codemirror_mode": {
    "name": "ipython",
    "version": 3
   },
   "file_extension": ".py",
   "mimetype": "text/x-python",
   "name": "python",
   "nbconvert_exporter": "python",
   "pygments_lexer": "ipython3",
   "version": "3.6.1"
  }
 },
 "nbformat": 4,
 "nbformat_minor": 2
}
