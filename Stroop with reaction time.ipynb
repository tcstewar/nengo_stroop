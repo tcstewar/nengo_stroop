{
 "cells": [
  {
   "cell_type": "code",
   "execution_count": 3,
   "metadata": {
    "collapsed": true
   },
   "outputs": [],
   "source": [
    "%matplotlib inline\n",
    "import matplotlib.pyplot as plt\n",
    "import seaborn\n",
    "import pandas"
   ]
  },
  {
   "cell_type": "code",
   "execution_count": 50,
   "metadata": {
    "collapsed": true
   },
   "outputs": [],
   "source": [
    "import nengo\n",
    "import nengo_spa as spa\n",
    "import numpy as np\n",
    "import pytry\n",
    "\n",
    "class StroopTrial(pytry.PlotTrial):\n",
    "    def params(self):\n",
    "        self.param('number of dimensions in semantic pointer', D=16)\n",
    "        self.param('number of each type of stimuli to test', n_stims=2)\n",
    "        self.param('inter-stimulus interval', t_isi=0.05)\n",
    "        self.param('stimulus presentation time', t_stim=0.15)\n",
    "        self.param('direct automaticity', auto_direct=0.0)\n",
    "        self.param('use neurons', use_neurons=True)\n",
    "        self.param('decision making system (bg|ia)', decision='bg')\n",
    "        self.param('threshold for producing an output', output_threshold=0.1)\n",
    "        self.param('IA decision time', ia_accum_timescale=0.4)\n",
    "        \n",
    "    def evaluate(self, p, plt):\n",
    "        stimuli = []\n",
    "        for i in range(p.n_stims):\n",
    "            stimuli.append(('NEUTRAL%d'%i, 'COLOR%d'%i, 'neutral'))\n",
    "        for i in range(p.n_stims):\n",
    "            stimuli.append(('COLOR%d'%i, 'COLOR%d'%i, 'congruent'))\n",
    "        for i in range(p.n_stims):\n",
    "            stimuli.append(('COLOR%d'%((i+1)%p.n_stims), 'COLOR%d'%i, 'incongruent'))\n",
    "\n",
    "        vocab = spa.Vocabulary(p.D, pointer_gen=np.random.RandomState(seed=p.seed))\n",
    "        for i in range(p.n_stims):\n",
    "            vocab.populate('NEUTRAL%d'%i)\n",
    "            vocab.populate('COLOR%d'%i)\n",
    "        vocab.populate('COLOR; WORD')\n",
    "\n",
    "        model = spa.Network(seed=p.seed)\n",
    "        with model:\n",
    "            def word_func(t):\n",
    "                index = int (t / (p.t_stim + p.t_isi))\n",
    "                t = t % (p.t_stim + p.t_isi)\n",
    "                if t < p.t_isi:\n",
    "                    return '0'\n",
    "                else:\n",
    "                    return stimuli[index%len(stimuli)][0]\n",
    "            def color_func(t):\n",
    "                index = int (t / (p.t_stim + p.t_isi))\n",
    "                t = t % (p.t_stim + p.t_isi)\n",
    "                if t < p.t_isi:\n",
    "                    return '0'\n",
    "                else:\n",
    "                    return stimuli[index%len(stimuli)][1]\n",
    "            stim_w = spa.Transcode(word_func, output_vocab=vocab)\n",
    "            stim_c = spa.Transcode(color_func, output_vocab=vocab) \n",
    "            stim_a = spa.Transcode('COLOR', output_vocab=vocab)\n",
    "\n",
    "            wm = spa.State(vocab)\n",
    "            \n",
    "            (spa.sym.COLOR*stim_c+spa.sym.WORD*stim_w)*~stim_a >> wm\n",
    "            \n",
    "            if p.auto_direct != 0:\n",
    "                stim_w*p.auto_direct >> wm\n",
    "                \n",
    "                \n",
    "            speech = spa.State(vocab)\n",
    "            \n",
    "            if p.decision == 'bg':\n",
    "                with spa.ActionSelection() as action_sel:\n",
    "                    for i in range(p.n_stims):\n",
    "                        spa.ifmax(spa.dot(wm, spa.sym('COLOR%d'%i)), spa.sym('COLOR%d'%i) >> speech)                \n",
    "                    spa.ifmax(0.35, spa.sym('0') >> speech)\n",
    "            elif p.decision == 'ia':\n",
    "                def reset_func(t):\n",
    "                    index = int (t / (p.t_stim + p.t_isi))\n",
    "                    t = t % (p.t_stim + p.t_isi)\n",
    "                    if t < p.t_isi:\n",
    "                        return 1\n",
    "                    else:\n",
    "                        return 0                                \n",
    "                reset = nengo.Node(reset_func)\n",
    "                \n",
    "                decision = spa.IAAssocMem(vocab, mapping=['COLOR%d'%i for i in range(p.n_stims)],\n",
    "                                          accum_timescale=p.ia_accum_timescale)\n",
    "                wm >> decision\n",
    "                \n",
    "                nengo.Connection(reset, decision.input_reset)\n",
    "            else:\n",
    "                raise Exception('Unknown decision param: %s' %p.decision)\n",
    "            if not p.use_neurons:\n",
    "                for ens in model.all_ensembles:\n",
    "                    ens.neuron_type=nengo.Direct()\n",
    "                \n",
    "\n",
    "            p_output = nengo.Probe(wm.output, synapse=0.02)\n",
    "            p_correct = nengo.Probe(stim_c.output)\n",
    "            p_speech = nengo.Probe(speech.output, synapse=0.02)\n",
    "            \n",
    "            if p.decision == 'bg':\n",
    "                p_act = nengo.Probe(action_sel.thalamus.output, synapse=0.01)\n",
    "            elif p.decision == 'ia':\n",
    "                p_act = nengo.Probe(decision.selection.output, synapse=0.01)\n",
    "            \n",
    "\n",
    "        sim = nengo.Simulator(model, progress_bar=p.verbose)\n",
    "        with sim:\n",
    "            sim.run(p.n_stims*(p.t_isi+p.t_stim)*3)    \n",
    "\n",
    "        v = np.einsum('ij,ij->i',sim.data[p_correct], sim.data[p_output])\n",
    "        steps = int((p.t_isi+p.t_stim)/sim.dt)\n",
    "        scores = v[steps-2::steps]\n",
    "        \n",
    "\n",
    "        data = sim.data[p_act]\n",
    "        rts = []\n",
    "        accuracy = []\n",
    "        for condition in range(3):\n",
    "            for i in range(p.n_stims):\n",
    "                t_start = (p.t_isi+p.t_stim)*i + p.t_isi + condition*(p.t_isi+p.t_stim)*p.n_stims\n",
    "                t_end = t_start + p.t_stim\n",
    "                d = data[int(t_start/sim.dt):int(t_end/sim.dt) , i]\n",
    "\n",
    "                correct = np.max(d) > p.output_threshold\n",
    "                if correct:\n",
    "                    rt = np.where(d > p.output_threshold)[0][0]*sim.dt\n",
    "                else:\n",
    "                    rt = None\n",
    "\n",
    "                rts.append(rt)\n",
    "                accuracy.append(correct)\n",
    "        \n",
    "        \n",
    "        \n",
    "        \n",
    "        \n",
    "        if plt:\n",
    "            plt.subplot(2, 1, 1)\n",
    "            plt.plot(sim.trange(), sim.data[p_output].dot(vocab.vectors.T))\n",
    "            plt.subplot(2, 1, 2)\n",
    "            if p.decision == 'bg':\n",
    "                plt.plot(sim.trange(), sim.data[p_act][:,:-1])\n",
    "            elif p.decision == 'ia':\n",
    "                plt.plot(sim.trange(), sim.data[p_act])\n",
    "                \n",
    "            for i in range(p.n_stims*3):\n",
    "                plt.axvline(i*(p.t_isi+p.t_stim)+p.t_isi, ls='--')\n",
    "            \n",
    "        \n",
    "        return dict(\n",
    "            scores=scores,\n",
    "            stimuli=stimuli,\n",
    "            neutral=np.mean(scores[:p.n_stims]),\n",
    "            congruent=np.mean(scores[p.n_stims:p.n_stims*2]),\n",
    "            incongruent=np.mean(scores[p.n_stims*2:]),\n",
    "            rts=rts,\n",
    "            accuracy=accuracy,\n",
    "            rt_neutral=np.mean(rts[:p.n_stims]),\n",
    "            rt_congruent=np.mean(rts[p.n_stims:p.n_stims*2]),\n",
    "            rt_incongruent=np.mean(rts[p.n_stims*2:]),\n",
    "        )\n",
    "\n",
    "        "
   ]
  },
  {
   "cell_type": "code",
   "execution_count": 56,
   "metadata": {
    "scrolled": false
   },
   "outputs": [
    {
     "name": "stdout",
     "output_type": "stream",
     "text": [
      "running StroopTrial#20200331-012938-62d697f9\n"
     ]
    },
    {
     "data": {
      "application/vdom.v1+json": {
       "attributes": {},
       "tagName": "div"
      },
      "text/html": [
       "\n",
       "                <script>\n",
       "                    if (Jupyter.version.split(\".\")[0] < 5) {\n",
       "                        var pb = document.getElementById(\"8f776485-a4db-4269-8b80-b82434981814\");\n",
       "                        var text = document.createTextNode(\n",
       "                            \"HMTL progress bar requires Jupyter Notebook >= \" +\n",
       "                            \"5.0 or Jupyter Lab. Alternatively, you can use \" +\n",
       "                            \"TerminalProgressBar().\");\n",
       "                        pb.parentNode.insertBefore(text, pb);\n",
       "                    }\n",
       "                </script>\n",
       "                <div id=\"8f776485-a4db-4269-8b80-b82434981814\" style=\"\n",
       "                    width: 100%;\n",
       "                    border: 1px solid #cfcfcf;\n",
       "                    border-radius: 4px;\n",
       "                    text-align: center;\n",
       "                    position: relative;\">\n",
       "                  <div class=\"pb-text\" style=\"\n",
       "                      position: absolute;\n",
       "                      width: 100%;\">\n",
       "                    0%\n",
       "                  </div>\n",
       "                  <div class=\"pb-fill\" style=\"\n",
       "                      background-color: #bdd2e6;\n",
       "                      width: 0%;\">\n",
       "                    <style type=\"text/css\" scoped=\"scoped\">\n",
       "                        @keyframes pb-fill-anim {\n",
       "                            0% { background-position: 0 0; }\n",
       "                            100% { background-position: 100px 0; }\n",
       "                        }\n",
       "                    </style>\n",
       "                    &nbsp;\n",
       "                  </div>\n",
       "                </div>"
      ],
      "text/plain": [
       "HtmlProgressBar cannot be displayed. Please use the TerminalProgressBar. It can be enabled with `nengo.rc.set('progress', 'progress_bar', 'nengo.utils.progress.TerminalProgressBar')`."
      ]
     },
     "metadata": {},
     "output_type": "display_data"
    },
    {
     "data": {
      "application/vdom.v1+json": {
       "attributes": {
        "id": "2e570de5-4859-47c7-9ca3-6acb3c7fe793",
        "style": {
         "border": "1px solid #cfcfcf",
         "borderRadius": "4px",
         "boxSizing": "border-box",
         "position": "relative",
         "textAlign": "center",
         "width": "100%"
        }
       },
       "children": [
        {
         "attributes": {
          "class": "pb-text",
          "style": {
           "position": "absolute",
           "width": "100%"
          }
         },
         "children": [
          "Build finished in 0:00:06."
         ],
         "tagName": "div"
        },
        {
         "attributes": {
          "class": "pb-fill",
          "style": {
           "animation": "none",
           "backgroundColor": "#bdd2e6",
           "backgroundImage": "none",
           "backgroundSize": "100px 100%",
           "width": "100%"
          }
         },
         "children": [
          {
           "attributes": {
            "scoped": "scoped",
            "type": "text/css"
           },
           "children": [
            "\n                        @keyframes pb-fill-anim {\n                            0% { background-position: 0 0; }\n                            100% { background-position: 100px 0; }\n                        }}"
           ],
           "tagName": "style"
          },
          " "
         ],
         "tagName": "div"
        }
       ],
       "tagName": "div"
      },
      "text/html": [
       "<script>\n",
       "              (function () {\n",
       "                  var root = document.getElementById('8f776485-a4db-4269-8b80-b82434981814');\n",
       "                  var text = root.getElementsByClassName('pb-text')[0];\n",
       "                  var fill = root.getElementsByClassName('pb-fill')[0];\n",
       "\n",
       "                  text.innerHTML = 'Build finished in 0:00:06.';\n",
       "                  \n",
       "            fill.style.width = '100%';\n",
       "            fill.style.animation = 'pb-fill-anim 2s linear infinite';\n",
       "            fill.style.backgroundSize = '100px 100%';\n",
       "            fill.style.backgroundImage = 'repeating-linear-gradient(' +\n",
       "                '90deg, #bdd2e6, #edf2f8 40%, #bdd2e6 80%, #bdd2e6)';\n",
       "        \n",
       "                  \n",
       "                fill.style.animation = 'none';\n",
       "                fill.style.backgroundImage = 'none';\n",
       "            \n",
       "              })();\n",
       "        </script>"
      ]
     },
     "metadata": {},
     "output_type": "display_data"
    },
    {
     "data": {
      "application/vdom.v1+json": {
       "attributes": {},
       "tagName": "div"
      },
      "text/html": [
       "\n",
       "                <script>\n",
       "                    if (Jupyter.version.split(\".\")[0] < 5) {\n",
       "                        var pb = document.getElementById(\"c634e7d5-ad42-4978-8d95-b2b3db3bb911\");\n",
       "                        var text = document.createTextNode(\n",
       "                            \"HMTL progress bar requires Jupyter Notebook >= \" +\n",
       "                            \"5.0 or Jupyter Lab. Alternatively, you can use \" +\n",
       "                            \"TerminalProgressBar().\");\n",
       "                        pb.parentNode.insertBefore(text, pb);\n",
       "                    }\n",
       "                </script>\n",
       "                <div id=\"c634e7d5-ad42-4978-8d95-b2b3db3bb911\" style=\"\n",
       "                    width: 100%;\n",
       "                    border: 1px solid #cfcfcf;\n",
       "                    border-radius: 4px;\n",
       "                    text-align: center;\n",
       "                    position: relative;\">\n",
       "                  <div class=\"pb-text\" style=\"\n",
       "                      position: absolute;\n",
       "                      width: 100%;\">\n",
       "                    0%\n",
       "                  </div>\n",
       "                  <div class=\"pb-fill\" style=\"\n",
       "                      background-color: #bdd2e6;\n",
       "                      width: 0%;\">\n",
       "                    <style type=\"text/css\" scoped=\"scoped\">\n",
       "                        @keyframes pb-fill-anim {\n",
       "                            0% { background-position: 0 0; }\n",
       "                            100% { background-position: 100px 0; }\n",
       "                        }\n",
       "                    </style>\n",
       "                    &nbsp;\n",
       "                  </div>\n",
       "                </div>"
      ],
      "text/plain": [
       "HtmlProgressBar cannot be displayed. Please use the TerminalProgressBar. It can be enabled with `nengo.rc.set('progress', 'progress_bar', 'nengo.utils.progress.TerminalProgressBar')`."
      ]
     },
     "metadata": {},
     "output_type": "display_data"
    },
    {
     "data": {
      "application/vdom.v1+json": {
       "attributes": {
        "id": "62439c63-af71-4def-92a9-76012b010dd3",
        "style": {
         "border": "1px solid #cfcfcf",
         "borderRadius": "4px",
         "boxSizing": "border-box",
         "position": "relative",
         "textAlign": "center",
         "width": "100%"
        }
       },
       "children": [
        {
         "attributes": {
          "class": "pb-text",
          "style": {
           "position": "absolute",
           "width": "100%"
          }
         },
         "children": [
          "Simulation finished in 0:00:33."
         ],
         "tagName": "div"
        },
        {
         "attributes": {
          "class": "pb-fill",
          "style": {
           "animation": "none",
           "backgroundColor": "#bdd2e6",
           "backgroundImage": "none",
           "transition": "width 0.1s linear",
           "width": "100%"
          }
         },
         "children": [
          {
           "attributes": {
            "scoped": "scoped",
            "type": "text/css"
           },
           "children": [
            "\n                        @keyframes pb-fill-anim {\n                            0% { background-position: 0 0; }\n                            100% { background-position: 100px 0; }\n                        }}"
           ],
           "tagName": "style"
          },
          " "
         ],
         "tagName": "div"
        }
       ],
       "tagName": "div"
      },
      "text/html": [
       "<script>\n",
       "              (function () {\n",
       "                  var root = document.getElementById('c634e7d5-ad42-4978-8d95-b2b3db3bb911');\n",
       "                  var text = root.getElementsByClassName('pb-text')[0];\n",
       "                  var fill = root.getElementsByClassName('pb-fill')[0];\n",
       "\n",
       "                  text.innerHTML = 'Simulation finished in 0:00:33.';\n",
       "                  \n",
       "            if (100.0 > 0.) {\n",
       "                fill.style.transition = 'width 0.1s linear';\n",
       "            } else {\n",
       "                fill.style.transition = 'none';\n",
       "            }\n",
       "\n",
       "            fill.style.width = '100.0%';\n",
       "            fill.style.animation = 'none';\n",
       "            fill.style.backgroundImage = 'none'\n",
       "        \n",
       "                  \n",
       "                fill.style.animation = 'none';\n",
       "                fill.style.backgroundImage = 'none';\n",
       "            \n",
       "              })();\n",
       "        </script>"
      ]
     },
     "metadata": {},
     "output_type": "display_data"
    },
    {
     "name": "stdout",
     "output_type": "stream",
     "text": [
      "seed = 0\n",
      "D = 64\n",
      "n_stims = 4\n",
      "t_isi = 0.2\n",
      "t_stim = 0.15\n",
      "auto_direct = 0.3\n",
      "use_neurons = True\n",
      "decision = 'ia'\n",
      "output_threshold = 0.1\n",
      "ia_accum_timescale = 0.4\n",
      "accuracy = [True, True, True, True, True, True, True, True, True, True, True, True]\n",
      "congruent = 0.8520761193431465\n",
      "incongruent = 0.7039659283744303\n",
      "neutral = 0.7090396819707439\n",
      "rt_congruent = 0.052000000000000005\n",
      "rt_incongruent = 0.06675\n",
      "rt_neutral = 0.058249999999999996\n",
      "rts = [0.031, 0.076, 0.063, 0.063, 0.046, 0.051000000000000004, 0.051000000000000004, 0.06, 0.058, 0.092, 0.052000000000000005, 0.065]\n",
      "scores = array([0.74142191, 0.69745097, 0.66473256, 0.73255329, 0.91879144,\n",
      "       0.86994169, 0.84596078, 0.77361057, 0.78960571, 0.57929079,\n",
      "       0.70318674, 0.74378047])\n",
      "stimuli = [('NEUTRAL0', 'COLOR0', 'neutral'), ('NEUTRAL1', 'COLOR1', 'neutral'), ('NEUTRAL2', 'COLOR2', 'neutral'), ('NEUTRAL3', 'COLOR3', 'neutral'), ('COLOR0', 'COLOR0', 'congruent'), ('COLOR1', 'COLOR1', 'congruent'), ('COLOR2', 'COLOR2', 'congruent'), ('COLOR3', 'COLOR3', 'congruent'), ('COLOR1', 'COLOR0', 'incongruent'), ('COLOR2', 'COLOR1', 'incongruent'), ('COLOR3', 'COLOR2', 'incongruent'), ('COLOR0', 'COLOR3', 'incongruent')]\n"
     ]
    },
    {
     "data": {
      "image/png": "[encoded data removed]",
      "text/plain": [
       "<Figure size 864x288 with 2 Axes>"
      ]
     },
     "metadata": {},
     "output_type": "display_data"
    }
   ],
   "source": [
    "plt.figure(figsize=(12,4))\n",
    "r = StroopTrial().run(plt=plt, n_stims=4, data_dir=None, seed=0, D=64, auto_direct=0.3, use_neurons=True,\n",
    "                  decision='ia', ia_accum_timescale=0.4, t_isi=0.2)"
   ]
  },
  {
   "cell_type": "code",
   "execution_count": 43,
   "metadata": {},
   "outputs": [
    {
     "name": "stdout",
     "output_type": "stream",
     "text": [
      "[0.031, 0.079, 0.07100000000000001, 0.056, 0.044, 0.047, 0.047, 0.053, 0.062, 0.093, 0.053, 0.067]\n",
      "[True, True, True, True, True, True, True, True, True, True, True, True]\n",
      "0.05925\n",
      "0.04775\n",
      "0.06875\n"
     ]
    },
    {
     "data": {
      "image/png": "[encoded data removed]",
      "text/plain": [
       "<Figure size 432x288 with 1 Axes>"
      ]
     },
     "metadata": {},
     "output_type": "display_data"
    }
   ],
   "source": [
    "data = r['data']\n",
    "\n",
    "plt.plot(data)\n",
    "\n",
    "t_isi = 0.2\n",
    "t_stim = 0.15\n",
    "n_stims = 4\n",
    "threshold = 0.1\n",
    "dt = 0.001\n",
    "\n",
    "rts = []\n",
    "accuracy = []\n",
    "\n",
    "for condition in range(3):\n",
    "    for i in range(n_stims):\n",
    "        t_start = (t_isi+t_stim)*i + t_isi + condition*(t_isi+t_stim)*n_stims\n",
    "        t_end = t_start + t_stim\n",
    "        d = data[int(t_start/dt):int(t_end/dt) , i]\n",
    "\n",
    "        correct = np.max(d) > threshold\n",
    "        if correct:\n",
    "            rt = np.where(d>threshold)[0][0]*dt\n",
    "            \n",
    "        rts.append(rt)\n",
    "        accuracy.append(correct)\n",
    "    \n",
    "print(rts)\n",
    "print(accuracy)\n",
    "print(np.mean(rts[:n_stims]))\n",
    "print(np.mean(rts[n_stims:n_stims*2]))\n",
    "print(np.mean(rts[n_stims*2:]))\n",
    "\n",
    "    "
   ]
  },
  {
   "cell_type": "code",
   "execution_count": 57,
   "metadata": {},
   "outputs": [
    {
     "name": "stdout",
     "output_type": "stream",
     "text": [
      "10\n"
     ]
    },
    {
     "name": "stderr",
     "output_type": "stream",
     "text": [
      "c:\\users\\terry\\documents\\github\\nengo_spa\\nengo_spa\\vocabulary.py:173: UserWarning: Could not create a semantic pointer with max_similarity=0.10 (D=64, M=16, similarity=0.10)\n",
      "  len(self._key2idx), best_sim))\n",
      "c:\\users\\terry\\documents\\github\\nengo_spa\\nengo_spa\\vocabulary.py:173: UserWarning: Could not create a semantic pointer with max_similarity=0.10 (D=64, M=17, similarity=0.11)\n",
      "  len(self._key2idx), best_sim))\n",
      "c:\\users\\terry\\documents\\github\\nengo_spa\\nengo_spa\\vocabulary.py:173: UserWarning: Could not create a semantic pointer with max_similarity=0.10 (D=64, M=16, similarity=0.10)\n",
      "  len(self._key2idx), best_sim))\n",
      "c:\\users\\terry\\documents\\github\\nengo_spa\\nengo_spa\\vocabulary.py:173: UserWarning: Could not create a semantic pointer with max_similarity=0.10 (D=64, M=17, similarity=0.11)\n",
      "  len(self._key2idx), best_sim))\n",
      "c:\\users\\terry\\documents\\github\\nengo_spa\\nengo_spa\\vocabulary.py:173: UserWarning: Could not create a semantic pointer with max_similarity=0.10 (D=64, M=16, similarity=0.10)\n",
      "  len(self._key2idx), best_sim))\n",
      "c:\\users\\terry\\documents\\github\\nengo_spa\\nengo_spa\\vocabulary.py:173: UserWarning: Could not create a semantic pointer with max_similarity=0.10 (D=64, M=17, similarity=0.11)\n",
      "  len(self._key2idx), best_sim))\n",
      "c:\\users\\terry\\documents\\github\\nengo_spa\\nengo_spa\\vocabulary.py:173: UserWarning: Could not create a semantic pointer with max_similarity=0.10 (D=64, M=16, similarity=0.10)\n",
      "  len(self._key2idx), best_sim))\n",
      "c:\\users\\terry\\documents\\github\\nengo_spa\\nengo_spa\\vocabulary.py:173: UserWarning: Could not create a semantic pointer with max_similarity=0.10 (D=64, M=17, similarity=0.11)\n",
      "  len(self._key2idx), best_sim))\n",
      "c:\\users\\terry\\documents\\github\\nengo_spa\\nengo_spa\\vocabulary.py:173: UserWarning: Could not create a semantic pointer with max_similarity=0.10 (D=64, M=16, similarity=0.10)\n",
      "  len(self._key2idx), best_sim))\n",
      "c:\\users\\terry\\documents\\github\\nengo_spa\\nengo_spa\\vocabulary.py:173: UserWarning: Could not create a semantic pointer with max_similarity=0.10 (D=64, M=17, similarity=0.11)\n",
      "  len(self._key2idx), best_sim))\n",
      "c:\\users\\terry\\documents\\github\\nengo_spa\\nengo_spa\\vocabulary.py:173: UserWarning: Could not create a semantic pointer with max_similarity=0.10 (D=64, M=16, similarity=0.10)\n",
      "  len(self._key2idx), best_sim))\n",
      "c:\\users\\terry\\documents\\github\\nengo_spa\\nengo_spa\\vocabulary.py:173: UserWarning: Could not create a semantic pointer with max_similarity=0.10 (D=64, M=17, similarity=0.11)\n",
      "  len(self._key2idx), best_sim))\n",
      "c:\\users\\terry\\documents\\github\\nengo_spa\\nengo_spa\\vocabulary.py:173: UserWarning: Could not create a semantic pointer with max_similarity=0.10 (D=64, M=16, similarity=0.10)\n",
      "  len(self._key2idx), best_sim))\n",
      "c:\\users\\terry\\documents\\github\\nengo_spa\\nengo_spa\\vocabulary.py:173: UserWarning: Could not create a semantic pointer with max_similarity=0.10 (D=64, M=17, similarity=0.11)\n",
      "  len(self._key2idx), best_sim))\n",
      "c:\\users\\terry\\documents\\github\\nengo_spa\\nengo_spa\\vocabulary.py:173: UserWarning: Could not create a semantic pointer with max_similarity=0.10 (D=64, M=16, similarity=0.10)\n",
      "  len(self._key2idx), best_sim))\n",
      "c:\\users\\terry\\documents\\github\\nengo_spa\\nengo_spa\\vocabulary.py:173: UserWarning: Could not create a semantic pointer with max_similarity=0.10 (D=64, M=17, similarity=0.11)\n",
      "  len(self._key2idx), best_sim))\n",
      "c:\\users\\terry\\documents\\github\\nengo_spa\\nengo_spa\\vocabulary.py:173: UserWarning: Could not create a semantic pointer with max_similarity=0.10 (D=64, M=16, similarity=0.10)\n",
      "  len(self._key2idx), best_sim))\n",
      "c:\\users\\terry\\documents\\github\\nengo_spa\\nengo_spa\\vocabulary.py:173: UserWarning: Could not create a semantic pointer with max_similarity=0.10 (D=64, M=17, similarity=0.11)\n",
      "  len(self._key2idx), best_sim))\n",
      "c:\\users\\terry\\documents\\github\\nengo_spa\\nengo_spa\\vocabulary.py:173: UserWarning: Could not create a semantic pointer with max_similarity=0.10 (D=64, M=16, similarity=0.10)\n",
      "  len(self._key2idx), best_sim))\n",
      "c:\\users\\terry\\documents\\github\\nengo_spa\\nengo_spa\\vocabulary.py:173: UserWarning: Could not create a semantic pointer with max_similarity=0.10 (D=64, M=17, similarity=0.11)\n",
      "  len(self._key2idx), best_sim))\n"
     ]
    },
    {
     "name": "stdout",
     "output_type": "stream",
     "text": [
      "11\n"
     ]
    },
    {
     "name": "stderr",
     "output_type": "stream",
     "text": [
      "c:\\users\\terry\\documents\\github\\nengo_spa\\nengo_spa\\vocabulary.py:173: UserWarning: Could not create a semantic pointer with max_similarity=0.10 (D=64, M=13, similarity=0.10)\n",
      "  len(self._key2idx), best_sim))\n",
      "c:\\users\\terry\\documents\\github\\nengo_spa\\nengo_spa\\vocabulary.py:173: UserWarning: Could not create a semantic pointer with max_similarity=0.10 (D=64, M=16, similarity=0.11)\n",
      "  len(self._key2idx), best_sim))\n",
      "c:\\users\\terry\\documents\\github\\nengo_spa\\nengo_spa\\vocabulary.py:173: UserWarning: Could not create a semantic pointer with max_similarity=0.10 (D=64, M=17, similarity=0.11)\n",
      "  len(self._key2idx), best_sim))\n",
      "c:\\users\\terry\\documents\\github\\nengo_spa\\nengo_spa\\vocabulary.py:173: UserWarning: Could not create a semantic pointer with max_similarity=0.10 (D=64, M=13, similarity=0.10)\n",
      "  len(self._key2idx), best_sim))\n",
      "c:\\users\\terry\\documents\\github\\nengo_spa\\nengo_spa\\vocabulary.py:173: UserWarning: Could not create a semantic pointer with max_similarity=0.10 (D=64, M=16, similarity=0.11)\n",
      "  len(self._key2idx), best_sim))\n",
      "c:\\users\\terry\\documents\\github\\nengo_spa\\nengo_spa\\vocabulary.py:173: UserWarning: Could not create a semantic pointer with max_similarity=0.10 (D=64, M=17, similarity=0.11)\n",
      "  len(self._key2idx), best_sim))\n",
      "c:\\users\\terry\\documents\\github\\nengo_spa\\nengo_spa\\vocabulary.py:173: UserWarning: Could not create a semantic pointer with max_similarity=0.10 (D=64, M=13, similarity=0.10)\n",
      "  len(self._key2idx), best_sim))\n",
      "c:\\users\\terry\\documents\\github\\nengo_spa\\nengo_spa\\vocabulary.py:173: UserWarning: Could not create a semantic pointer with max_similarity=0.10 (D=64, M=16, similarity=0.11)\n",
      "  len(self._key2idx), best_sim))\n",
      "c:\\users\\terry\\documents\\github\\nengo_spa\\nengo_spa\\vocabulary.py:173: UserWarning: Could not create a semantic pointer with max_similarity=0.10 (D=64, M=17, similarity=0.11)\n",
      "  len(self._key2idx), best_sim))\n",
      "c:\\users\\terry\\documents\\github\\nengo_spa\\nengo_spa\\vocabulary.py:173: UserWarning: Could not create a semantic pointer with max_similarity=0.10 (D=64, M=13, similarity=0.10)\n",
      "  len(self._key2idx), best_sim))\n",
      "c:\\users\\terry\\documents\\github\\nengo_spa\\nengo_spa\\vocabulary.py:173: UserWarning: Could not create a semantic pointer with max_similarity=0.10 (D=64, M=16, similarity=0.11)\n",
      "  len(self._key2idx), best_sim))\n",
      "c:\\users\\terry\\documents\\github\\nengo_spa\\nengo_spa\\vocabulary.py:173: UserWarning: Could not create a semantic pointer with max_similarity=0.10 (D=64, M=17, similarity=0.11)\n",
      "  len(self._key2idx), best_sim))\n",
      "c:\\users\\terry\\documents\\github\\nengo_spa\\nengo_spa\\vocabulary.py:173: UserWarning: Could not create a semantic pointer with max_similarity=0.10 (D=64, M=13, similarity=0.10)\n",
      "  len(self._key2idx), best_sim))\n",
      "c:\\users\\terry\\documents\\github\\nengo_spa\\nengo_spa\\vocabulary.py:173: UserWarning: Could not create a semantic pointer with max_similarity=0.10 (D=64, M=16, similarity=0.11)\n",
      "  len(self._key2idx), best_sim))\n",
      "c:\\users\\terry\\documents\\github\\nengo_spa\\nengo_spa\\vocabulary.py:173: UserWarning: Could not create a semantic pointer with max_similarity=0.10 (D=64, M=17, similarity=0.11)\n",
      "  len(self._key2idx), best_sim))\n",
      "c:\\users\\terry\\documents\\github\\nengo_spa\\nengo_spa\\vocabulary.py:173: UserWarning: Could not create a semantic pointer with max_similarity=0.10 (D=64, M=13, similarity=0.10)\n",
      "  len(self._key2idx), best_sim))\n",
      "c:\\users\\terry\\documents\\github\\nengo_spa\\nengo_spa\\vocabulary.py:173: UserWarning: Could not create a semantic pointer with max_similarity=0.10 (D=64, M=16, similarity=0.11)\n",
      "  len(self._key2idx), best_sim))\n",
      "c:\\users\\terry\\documents\\github\\nengo_spa\\nengo_spa\\vocabulary.py:173: UserWarning: Could not create a semantic pointer with max_similarity=0.10 (D=64, M=17, similarity=0.11)\n",
      "  len(self._key2idx), best_sim))\n",
      "c:\\users\\terry\\documents\\github\\nengo_spa\\nengo_spa\\vocabulary.py:173: UserWarning: Could not create a semantic pointer with max_similarity=0.10 (D=64, M=13, similarity=0.10)\n",
      "  len(self._key2idx), best_sim))\n",
      "c:\\users\\terry\\documents\\github\\nengo_spa\\nengo_spa\\vocabulary.py:173: UserWarning: Could not create a semantic pointer with max_similarity=0.10 (D=64, M=16, similarity=0.11)\n",
      "  len(self._key2idx), best_sim))\n",
      "c:\\users\\terry\\documents\\github\\nengo_spa\\nengo_spa\\vocabulary.py:173: UserWarning: Could not create a semantic pointer with max_similarity=0.10 (D=64, M=17, similarity=0.11)\n",
      "  len(self._key2idx), best_sim))\n",
      "c:\\users\\terry\\documents\\github\\nengo_spa\\nengo_spa\\vocabulary.py:173: UserWarning: Could not create a semantic pointer with max_similarity=0.10 (D=64, M=13, similarity=0.10)\n",
      "  len(self._key2idx), best_sim))\n",
      "c:\\users\\terry\\documents\\github\\nengo_spa\\nengo_spa\\vocabulary.py:173: UserWarning: Could not create a semantic pointer with max_similarity=0.10 (D=64, M=16, similarity=0.11)\n",
      "  len(self._key2idx), best_sim))\n",
      "c:\\users\\terry\\documents\\github\\nengo_spa\\nengo_spa\\vocabulary.py:173: UserWarning: Could not create a semantic pointer with max_similarity=0.10 (D=64, M=17, similarity=0.11)\n",
      "  len(self._key2idx), best_sim))\n",
      "c:\\users\\terry\\documents\\github\\nengo_spa\\nengo_spa\\vocabulary.py:173: UserWarning: Could not create a semantic pointer with max_similarity=0.10 (D=64, M=13, similarity=0.10)\n",
      "  len(self._key2idx), best_sim))\n",
      "c:\\users\\terry\\documents\\github\\nengo_spa\\nengo_spa\\vocabulary.py:173: UserWarning: Could not create a semantic pointer with max_similarity=0.10 (D=64, M=16, similarity=0.11)\n",
      "  len(self._key2idx), best_sim))\n",
      "c:\\users\\terry\\documents\\github\\nengo_spa\\nengo_spa\\vocabulary.py:173: UserWarning: Could not create a semantic pointer with max_similarity=0.10 (D=64, M=17, similarity=0.11)\n",
      "  len(self._key2idx), best_sim))\n",
      "c:\\users\\terry\\documents\\github\\nengo_spa\\nengo_spa\\vocabulary.py:173: UserWarning: Could not create a semantic pointer with max_similarity=0.10 (D=64, M=13, similarity=0.10)\n",
      "  len(self._key2idx), best_sim))\n",
      "c:\\users\\terry\\documents\\github\\nengo_spa\\nengo_spa\\vocabulary.py:173: UserWarning: Could not create a semantic pointer with max_similarity=0.10 (D=64, M=16, similarity=0.11)\n",
      "  len(self._key2idx), best_sim))\n",
      "c:\\users\\terry\\documents\\github\\nengo_spa\\nengo_spa\\vocabulary.py:173: UserWarning: Could not create a semantic pointer with max_similarity=0.10 (D=64, M=17, similarity=0.11)\n",
      "  len(self._key2idx), best_sim))\n"
     ]
    },
    {
     "name": "stdout",
     "output_type": "stream",
     "text": [
      "12\n"
     ]
    },
    {
     "name": "stderr",
     "output_type": "stream",
     "text": [
      "c:\\users\\terry\\documents\\github\\nengo_spa\\nengo_spa\\vocabulary.py:173: UserWarning: Could not create a semantic pointer with max_similarity=0.10 (D=64, M=14, similarity=0.10)\n",
      "  len(self._key2idx), best_sim))\n",
      "c:\\users\\terry\\documents\\github\\nengo_spa\\nengo_spa\\vocabulary.py:173: UserWarning: Could not create a semantic pointer with max_similarity=0.10 (D=64, M=17, similarity=0.11)\n",
      "  len(self._key2idx), best_sim))\n",
      "c:\\users\\terry\\documents\\github\\nengo_spa\\nengo_spa\\vocabulary.py:173: UserWarning: Could not create a semantic pointer with max_similarity=0.10 (D=64, M=14, similarity=0.10)\n",
      "  len(self._key2idx), best_sim))\n",
      "c:\\users\\terry\\documents\\github\\nengo_spa\\nengo_spa\\vocabulary.py:173: UserWarning: Could not create a semantic pointer with max_similarity=0.10 (D=64, M=17, similarity=0.11)\n",
      "  len(self._key2idx), best_sim))\n",
      "c:\\users\\terry\\documents\\github\\nengo_spa\\nengo_spa\\vocabulary.py:173: UserWarning: Could not create a semantic pointer with max_similarity=0.10 (D=64, M=14, similarity=0.10)\n",
      "  len(self._key2idx), best_sim))\n",
      "c:\\users\\terry\\documents\\github\\nengo_spa\\nengo_spa\\vocabulary.py:173: UserWarning: Could not create a semantic pointer with max_similarity=0.10 (D=64, M=17, similarity=0.11)\n",
      "  len(self._key2idx), best_sim))\n",
      "c:\\users\\terry\\documents\\github\\nengo_spa\\nengo_spa\\vocabulary.py:173: UserWarning: Could not create a semantic pointer with max_similarity=0.10 (D=64, M=14, similarity=0.10)\n",
      "  len(self._key2idx), best_sim))\n",
      "c:\\users\\terry\\documents\\github\\nengo_spa\\nengo_spa\\vocabulary.py:173: UserWarning: Could not create a semantic pointer with max_similarity=0.10 (D=64, M=17, similarity=0.11)\n",
      "  len(self._key2idx), best_sim))\n",
      "c:\\users\\terry\\documents\\github\\nengo_spa\\nengo_spa\\vocabulary.py:173: UserWarning: Could not create a semantic pointer with max_similarity=0.10 (D=64, M=14, similarity=0.10)\n",
      "  len(self._key2idx), best_sim))\n",
      "c:\\users\\terry\\documents\\github\\nengo_spa\\nengo_spa\\vocabulary.py:173: UserWarning: Could not create a semantic pointer with max_similarity=0.10 (D=64, M=17, similarity=0.11)\n",
      "  len(self._key2idx), best_sim))\n",
      "c:\\users\\terry\\documents\\github\\nengo_spa\\nengo_spa\\vocabulary.py:173: UserWarning: Could not create a semantic pointer with max_similarity=0.10 (D=64, M=14, similarity=0.10)\n",
      "  len(self._key2idx), best_sim))\n",
      "c:\\users\\terry\\documents\\github\\nengo_spa\\nengo_spa\\vocabulary.py:173: UserWarning: Could not create a semantic pointer with max_similarity=0.10 (D=64, M=17, similarity=0.11)\n",
      "  len(self._key2idx), best_sim))\n",
      "c:\\users\\terry\\documents\\github\\nengo_spa\\nengo_spa\\vocabulary.py:173: UserWarning: Could not create a semantic pointer with max_similarity=0.10 (D=64, M=14, similarity=0.10)\n",
      "  len(self._key2idx), best_sim))\n",
      "c:\\users\\terry\\documents\\github\\nengo_spa\\nengo_spa\\vocabulary.py:173: UserWarning: Could not create a semantic pointer with max_similarity=0.10 (D=64, M=17, similarity=0.11)\n",
      "  len(self._key2idx), best_sim))\n",
      "c:\\users\\terry\\documents\\github\\nengo_spa\\nengo_spa\\vocabulary.py:173: UserWarning: Could not create a semantic pointer with max_similarity=0.10 (D=64, M=14, similarity=0.10)\n",
      "  len(self._key2idx), best_sim))\n",
      "c:\\users\\terry\\documents\\github\\nengo_spa\\nengo_spa\\vocabulary.py:173: UserWarning: Could not create a semantic pointer with max_similarity=0.10 (D=64, M=17, similarity=0.11)\n",
      "  len(self._key2idx), best_sim))\n",
      "c:\\users\\terry\\documents\\github\\nengo_spa\\nengo_spa\\vocabulary.py:173: UserWarning: Could not create a semantic pointer with max_similarity=0.10 (D=64, M=14, similarity=0.10)\n",
      "  len(self._key2idx), best_sim))\n",
      "c:\\users\\terry\\documents\\github\\nengo_spa\\nengo_spa\\vocabulary.py:173: UserWarning: Could not create a semantic pointer with max_similarity=0.10 (D=64, M=17, similarity=0.11)\n",
      "  len(self._key2idx), best_sim))\n",
      "c:\\users\\terry\\documents\\github\\nengo_spa\\nengo_spa\\vocabulary.py:173: UserWarning: Could not create a semantic pointer with max_similarity=0.10 (D=64, M=14, similarity=0.10)\n",
      "  len(self._key2idx), best_sim))\n",
      "c:\\users\\terry\\documents\\github\\nengo_spa\\nengo_spa\\vocabulary.py:173: UserWarning: Could not create a semantic pointer with max_similarity=0.10 (D=64, M=17, similarity=0.11)\n",
      "  len(self._key2idx), best_sim))\n"
     ]
    },
    {
     "name": "stdout",
     "output_type": "stream",
     "text": [
      "13\n"
     ]
    },
    {
     "name": "stderr",
     "output_type": "stream",
     "text": [
      "c:\\users\\terry\\documents\\github\\nengo_spa\\nengo_spa\\vocabulary.py:173: UserWarning: Could not create a semantic pointer with max_similarity=0.10 (D=64, M=15, similarity=0.11)\n",
      "  len(self._key2idx), best_sim))\n",
      "c:\\users\\terry\\documents\\github\\nengo_spa\\nengo_spa\\vocabulary.py:173: UserWarning: Could not create a semantic pointer with max_similarity=0.10 (D=64, M=17, similarity=0.11)\n",
      "  len(self._key2idx), best_sim))\n",
      "c:\\users\\terry\\documents\\github\\nengo_spa\\nengo_spa\\vocabulary.py:173: UserWarning: Could not create a semantic pointer with max_similarity=0.10 (D=64, M=15, similarity=0.11)\n",
      "  len(self._key2idx), best_sim))\n",
      "c:\\users\\terry\\documents\\github\\nengo_spa\\nengo_spa\\vocabulary.py:173: UserWarning: Could not create a semantic pointer with max_similarity=0.10 (D=64, M=17, similarity=0.11)\n",
      "  len(self._key2idx), best_sim))\n",
      "c:\\users\\terry\\documents\\github\\nengo_spa\\nengo_spa\\vocabulary.py:173: UserWarning: Could not create a semantic pointer with max_similarity=0.10 (D=64, M=15, similarity=0.11)\n",
      "  len(self._key2idx), best_sim))\n",
      "c:\\users\\terry\\documents\\github\\nengo_spa\\nengo_spa\\vocabulary.py:173: UserWarning: Could not create a semantic pointer with max_similarity=0.10 (D=64, M=17, similarity=0.11)\n",
      "  len(self._key2idx), best_sim))\n",
      "c:\\users\\terry\\documents\\github\\nengo_spa\\nengo_spa\\vocabulary.py:173: UserWarning: Could not create a semantic pointer with max_similarity=0.10 (D=64, M=15, similarity=0.11)\n",
      "  len(self._key2idx), best_sim))\n",
      "c:\\users\\terry\\documents\\github\\nengo_spa\\nengo_spa\\vocabulary.py:173: UserWarning: Could not create a semantic pointer with max_similarity=0.10 (D=64, M=17, similarity=0.11)\n",
      "  len(self._key2idx), best_sim))\n",
      "c:\\users\\terry\\documents\\github\\nengo_spa\\nengo_spa\\vocabulary.py:173: UserWarning: Could not create a semantic pointer with max_similarity=0.10 (D=64, M=15, similarity=0.11)\n",
      "  len(self._key2idx), best_sim))\n",
      "c:\\users\\terry\\documents\\github\\nengo_spa\\nengo_spa\\vocabulary.py:173: UserWarning: Could not create a semantic pointer with max_similarity=0.10 (D=64, M=17, similarity=0.11)\n",
      "  len(self._key2idx), best_sim))\n",
      "c:\\users\\terry\\documents\\github\\nengo_spa\\nengo_spa\\vocabulary.py:173: UserWarning: Could not create a semantic pointer with max_similarity=0.10 (D=64, M=15, similarity=0.11)\n",
      "  len(self._key2idx), best_sim))\n",
      "c:\\users\\terry\\documents\\github\\nengo_spa\\nengo_spa\\vocabulary.py:173: UserWarning: Could not create a semantic pointer with max_similarity=0.10 (D=64, M=17, similarity=0.11)\n",
      "  len(self._key2idx), best_sim))\n",
      "c:\\users\\terry\\documents\\github\\nengo_spa\\nengo_spa\\vocabulary.py:173: UserWarning: Could not create a semantic pointer with max_similarity=0.10 (D=64, M=15, similarity=0.11)\n",
      "  len(self._key2idx), best_sim))\n",
      "c:\\users\\terry\\documents\\github\\nengo_spa\\nengo_spa\\vocabulary.py:173: UserWarning: Could not create a semantic pointer with max_similarity=0.10 (D=64, M=17, similarity=0.11)\n",
      "  len(self._key2idx), best_sim))\n",
      "c:\\users\\terry\\documents\\github\\nengo_spa\\nengo_spa\\vocabulary.py:173: UserWarning: Could not create a semantic pointer with max_similarity=0.10 (D=64, M=15, similarity=0.11)\n",
      "  len(self._key2idx), best_sim))\n",
      "c:\\users\\terry\\documents\\github\\nengo_spa\\nengo_spa\\vocabulary.py:173: UserWarning: Could not create a semantic pointer with max_similarity=0.10 (D=64, M=17, similarity=0.11)\n",
      "  len(self._key2idx), best_sim))\n",
      "c:\\users\\terry\\documents\\github\\nengo_spa\\nengo_spa\\vocabulary.py:173: UserWarning: Could not create a semantic pointer with max_similarity=0.10 (D=64, M=15, similarity=0.11)\n",
      "  len(self._key2idx), best_sim))\n",
      "c:\\users\\terry\\documents\\github\\nengo_spa\\nengo_spa\\vocabulary.py:173: UserWarning: Could not create a semantic pointer with max_similarity=0.10 (D=64, M=17, similarity=0.11)\n",
      "  len(self._key2idx), best_sim))\n",
      "c:\\users\\terry\\documents\\github\\nengo_spa\\nengo_spa\\vocabulary.py:173: UserWarning: Could not create a semantic pointer with max_similarity=0.10 (D=64, M=15, similarity=0.11)\n",
      "  len(self._key2idx), best_sim))\n",
      "c:\\users\\terry\\documents\\github\\nengo_spa\\nengo_spa\\vocabulary.py:173: UserWarning: Could not create a semantic pointer with max_similarity=0.10 (D=64, M=17, similarity=0.11)\n",
      "  len(self._key2idx), best_sim))\n"
     ]
    },
    {
     "name": "stdout",
     "output_type": "stream",
     "text": [
      "14\n"
     ]
    },
    {
     "name": "stderr",
     "output_type": "stream",
     "text": [
      "c:\\users\\terry\\documents\\github\\nengo_spa\\nengo_spa\\vocabulary.py:173: UserWarning: Could not create a semantic pointer with max_similarity=0.10 (D=64, M=17, similarity=0.11)\n",
      "  len(self._key2idx), best_sim))\n",
      "c:\\users\\terry\\documents\\github\\nengo_spa\\nengo_spa\\vocabulary.py:173: UserWarning: Could not create a semantic pointer with max_similarity=0.10 (D=64, M=17, similarity=0.11)\n",
      "  len(self._key2idx), best_sim))\n",
      "c:\\users\\terry\\documents\\github\\nengo_spa\\nengo_spa\\vocabulary.py:173: UserWarning: Could not create a semantic pointer with max_similarity=0.10 (D=64, M=17, similarity=0.11)\n",
      "  len(self._key2idx), best_sim))\n",
      "c:\\users\\terry\\documents\\github\\nengo_spa\\nengo_spa\\vocabulary.py:173: UserWarning: Could not create a semantic pointer with max_similarity=0.10 (D=64, M=17, similarity=0.11)\n",
      "  len(self._key2idx), best_sim))\n",
      "c:\\users\\terry\\documents\\github\\nengo_spa\\nengo_spa\\vocabulary.py:173: UserWarning: Could not create a semantic pointer with max_similarity=0.10 (D=64, M=17, similarity=0.11)\n",
      "  len(self._key2idx), best_sim))\n",
      "c:\\users\\terry\\documents\\github\\nengo_spa\\nengo_spa\\vocabulary.py:173: UserWarning: Could not create a semantic pointer with max_similarity=0.10 (D=64, M=17, similarity=0.11)\n",
      "  len(self._key2idx), best_sim))\n",
      "c:\\users\\terry\\documents\\github\\nengo_spa\\nengo_spa\\vocabulary.py:173: UserWarning: Could not create a semantic pointer with max_similarity=0.10 (D=64, M=17, similarity=0.11)\n",
      "  len(self._key2idx), best_sim))\n",
      "c:\\users\\terry\\documents\\github\\nengo_spa\\nengo_spa\\vocabulary.py:173: UserWarning: Could not create a semantic pointer with max_similarity=0.10 (D=64, M=17, similarity=0.11)\n",
      "  len(self._key2idx), best_sim))\n",
      "c:\\users\\terry\\documents\\github\\nengo_spa\\nengo_spa\\vocabulary.py:173: UserWarning: Could not create a semantic pointer with max_similarity=0.10 (D=64, M=17, similarity=0.11)\n",
      "  len(self._key2idx), best_sim))\n",
      "c:\\users\\terry\\documents\\github\\nengo_spa\\nengo_spa\\vocabulary.py:173: UserWarning: Could not create a semantic pointer with max_similarity=0.10 (D=64, M=17, similarity=0.11)\n",
      "  len(self._key2idx), best_sim))\n"
     ]
    },
    {
     "name": "stdout",
     "output_type": "stream",
     "text": [
      "15\n"
     ]
    },
    {
     "name": "stderr",
     "output_type": "stream",
     "text": [
      "c:\\users\\terry\\documents\\github\\nengo_spa\\nengo_spa\\vocabulary.py:173: UserWarning: Could not create a semantic pointer with max_similarity=0.10 (D=64, M=15, similarity=0.11)\n",
      "  len(self._key2idx), best_sim))\n",
      "c:\\users\\terry\\documents\\github\\nengo_spa\\nengo_spa\\vocabulary.py:173: UserWarning: Could not create a semantic pointer with max_similarity=0.10 (D=64, M=15, similarity=0.11)\n",
      "  len(self._key2idx), best_sim))\n",
      "c:\\users\\terry\\documents\\github\\nengo_spa\\nengo_spa\\vocabulary.py:173: UserWarning: Could not create a semantic pointer with max_similarity=0.10 (D=64, M=15, similarity=0.11)\n",
      "  len(self._key2idx), best_sim))\n",
      "c:\\users\\terry\\documents\\github\\nengo_spa\\nengo_spa\\vocabulary.py:173: UserWarning: Could not create a semantic pointer with max_similarity=0.10 (D=64, M=15, similarity=0.11)\n",
      "  len(self._key2idx), best_sim))\n",
      "c:\\users\\terry\\documents\\github\\nengo_spa\\nengo_spa\\vocabulary.py:173: UserWarning: Could not create a semantic pointer with max_similarity=0.10 (D=64, M=15, similarity=0.11)\n",
      "  len(self._key2idx), best_sim))\n",
      "c:\\users\\terry\\documents\\github\\nengo_spa\\nengo_spa\\vocabulary.py:173: UserWarning: Could not create a semantic pointer with max_similarity=0.10 (D=64, M=15, similarity=0.11)\n",
      "  len(self._key2idx), best_sim))\n",
      "c:\\users\\terry\\documents\\github\\nengo_spa\\nengo_spa\\vocabulary.py:173: UserWarning: Could not create a semantic pointer with max_similarity=0.10 (D=64, M=15, similarity=0.11)\n",
      "  len(self._key2idx), best_sim))\n",
      "c:\\users\\terry\\documents\\github\\nengo_spa\\nengo_spa\\vocabulary.py:173: UserWarning: Could not create a semantic pointer with max_similarity=0.10 (D=64, M=15, similarity=0.11)\n",
      "  len(self._key2idx), best_sim))\n",
      "c:\\users\\terry\\documents\\github\\nengo_spa\\nengo_spa\\vocabulary.py:173: UserWarning: Could not create a semantic pointer with max_similarity=0.10 (D=64, M=15, similarity=0.11)\n",
      "  len(self._key2idx), best_sim))\n",
      "c:\\users\\terry\\documents\\github\\nengo_spa\\nengo_spa\\vocabulary.py:173: UserWarning: Could not create a semantic pointer with max_similarity=0.10 (D=64, M=15, similarity=0.11)\n",
      "  len(self._key2idx), best_sim))\n"
     ]
    },
    {
     "name": "stdout",
     "output_type": "stream",
     "text": [
      "16\n",
      "17\n"
     ]
    },
    {
     "name": "stderr",
     "output_type": "stream",
     "text": [
      "c:\\users\\terry\\documents\\github\\nengo_spa\\nengo_spa\\vocabulary.py:173: UserWarning: Could not create a semantic pointer with max_similarity=0.10 (D=64, M=17, similarity=0.13)\n",
      "  len(self._key2idx), best_sim))\n",
      "c:\\users\\terry\\documents\\github\\nengo_spa\\nengo_spa\\vocabulary.py:173: UserWarning: Could not create a semantic pointer with max_similarity=0.10 (D=64, M=17, similarity=0.13)\n",
      "  len(self._key2idx), best_sim))\n",
      "c:\\users\\terry\\documents\\github\\nengo_spa\\nengo_spa\\vocabulary.py:173: UserWarning: Could not create a semantic pointer with max_similarity=0.10 (D=64, M=17, similarity=0.13)\n",
      "  len(self._key2idx), best_sim))\n",
      "c:\\users\\terry\\documents\\github\\nengo_spa\\nengo_spa\\vocabulary.py:173: UserWarning: Could not create a semantic pointer with max_similarity=0.10 (D=64, M=17, similarity=0.13)\n",
      "  len(self._key2idx), best_sim))\n",
      "c:\\users\\terry\\documents\\github\\nengo_spa\\nengo_spa\\vocabulary.py:173: UserWarning: Could not create a semantic pointer with max_similarity=0.10 (D=64, M=17, similarity=0.13)\n",
      "  len(self._key2idx), best_sim))\n",
      "c:\\users\\terry\\documents\\github\\nengo_spa\\nengo_spa\\vocabulary.py:173: UserWarning: Could not create a semantic pointer with max_similarity=0.10 (D=64, M=17, similarity=0.13)\n",
      "  len(self._key2idx), best_sim))\n",
      "c:\\users\\terry\\documents\\github\\nengo_spa\\nengo_spa\\vocabulary.py:173: UserWarning: Could not create a semantic pointer with max_similarity=0.10 (D=64, M=17, similarity=0.13)\n",
      "  len(self._key2idx), best_sim))\n",
      "c:\\users\\terry\\documents\\github\\nengo_spa\\nengo_spa\\vocabulary.py:173: UserWarning: Could not create a semantic pointer with max_similarity=0.10 (D=64, M=17, similarity=0.13)\n",
      "  len(self._key2idx), best_sim))\n",
      "c:\\users\\terry\\documents\\github\\nengo_spa\\nengo_spa\\vocabulary.py:173: UserWarning: Could not create a semantic pointer with max_similarity=0.10 (D=64, M=17, similarity=0.13)\n",
      "  len(self._key2idx), best_sim))\n",
      "c:\\users\\terry\\documents\\github\\nengo_spa\\nengo_spa\\vocabulary.py:173: UserWarning: Could not create a semantic pointer with max_similarity=0.10 (D=64, M=17, similarity=0.13)\n",
      "  len(self._key2idx), best_sim))\n"
     ]
    },
    {
     "name": "stdout",
     "output_type": "stream",
     "text": [
      "18\n",
      "19\n"
     ]
    },
    {
     "name": "stderr",
     "output_type": "stream",
     "text": [
      "c:\\users\\terry\\documents\\github\\nengo_spa\\nengo_spa\\vocabulary.py:173: UserWarning: Could not create a semantic pointer with max_similarity=0.10 (D=64, M=16, similarity=0.12)\n",
      "  len(self._key2idx), best_sim))\n",
      "c:\\users\\terry\\documents\\github\\nengo_spa\\nengo_spa\\vocabulary.py:173: UserWarning: Could not create a semantic pointer with max_similarity=0.10 (D=64, M=16, similarity=0.12)\n",
      "  len(self._key2idx), best_sim))\n",
      "c:\\users\\terry\\documents\\github\\nengo_spa\\nengo_spa\\vocabulary.py:173: UserWarning: Could not create a semantic pointer with max_similarity=0.10 (D=64, M=16, similarity=0.12)\n",
      "  len(self._key2idx), best_sim))\n",
      "c:\\users\\terry\\documents\\github\\nengo_spa\\nengo_spa\\vocabulary.py:173: UserWarning: Could not create a semantic pointer with max_similarity=0.10 (D=64, M=16, similarity=0.12)\n",
      "  len(self._key2idx), best_sim))\n",
      "c:\\users\\terry\\documents\\github\\nengo_spa\\nengo_spa\\vocabulary.py:173: UserWarning: Could not create a semantic pointer with max_similarity=0.10 (D=64, M=16, similarity=0.12)\n",
      "  len(self._key2idx), best_sim))\n",
      "c:\\users\\terry\\documents\\github\\nengo_spa\\nengo_spa\\vocabulary.py:173: UserWarning: Could not create a semantic pointer with max_similarity=0.10 (D=64, M=16, similarity=0.12)\n",
      "  len(self._key2idx), best_sim))\n",
      "c:\\users\\terry\\documents\\github\\nengo_spa\\nengo_spa\\vocabulary.py:173: UserWarning: Could not create a semantic pointer with max_similarity=0.10 (D=64, M=16, similarity=0.12)\n",
      "  len(self._key2idx), best_sim))\n",
      "c:\\users\\terry\\documents\\github\\nengo_spa\\nengo_spa\\vocabulary.py:173: UserWarning: Could not create a semantic pointer with max_similarity=0.10 (D=64, M=16, similarity=0.12)\n",
      "  len(self._key2idx), best_sim))\n",
      "c:\\users\\terry\\documents\\github\\nengo_spa\\nengo_spa\\vocabulary.py:173: UserWarning: Could not create a semantic pointer with max_similarity=0.10 (D=64, M=16, similarity=0.12)\n",
      "  len(self._key2idx), best_sim))\n",
      "c:\\users\\terry\\documents\\github\\nengo_spa\\nengo_spa\\vocabulary.py:173: UserWarning: Could not create a semantic pointer with max_similarity=0.10 (D=64, M=16, similarity=0.12)\n",
      "  len(self._key2idx), best_sim))\n"
     ]
    }
   ],
   "source": [
    "for seed in range(10, 20):\n",
    "    print(seed)\n",
    "    for auto_direct in [0.0, 0.1, 0.2, 0.3, 0.4]:\n",
    "        StroopTrial().run(n_stims=8, data_dir='exp2', seed=seed, D=64, verbose=False, auto_direct=auto_direct)        \n",
    "        StroopTrial().run(n_stims=8, data_dir='exp3', seed=seed, D=64, verbose=False, auto_direct=auto_direct, use_neurons=False)"
   ]
  },
  {
   "cell_type": "code",
   "execution_count": null,
   "metadata": {
    "collapsed": true
   },
   "outputs": [],
   "source": []
  },
  {
   "cell_type": "code",
   "execution_count": 58,
   "metadata": {},
   "outputs": [
    {
     "data": {
      "text/plain": [
       "<matplotlib.axes._subplots.AxesSubplot at 0x11b850f1128>"
      ]
     },
     "execution_count": 58,
     "metadata": {},
     "output_type": "execute_result"
    },
    {
     "data": {
      "image/png": "[encoded data removed]",
      "text/plain": [
       "<Figure size 432x288 with 1 Axes>"
      ]
     },
     "metadata": {},
     "output_type": "display_data"
    }
   ],
   "source": [
    "data = []\n",
    "for d in pytry.read('exp2'):\n",
    "    score = d['scores']\n",
    "    stimuli = d['stimuli']\n",
    "    for i in range(len(score)):\n",
    "        d2 = dict(d)\n",
    "        del d2['scores']\n",
    "        del d2['stimuli']\n",
    "        d2['score'] = score[i]\n",
    "        d2['type'] = stimuli[i][2]\n",
    "        data.append(d2)\n",
    "df = pandas.DataFrame(data)\n",
    "seaborn.barplot('type', 'score', hue='auto_direct', data=df)        "
   ]
  },
  {
   "cell_type": "code",
   "execution_count": 59,
   "metadata": {},
   "outputs": [
    {
     "data": {
      "text/plain": [
       "<matplotlib.axes._subplots.AxesSubplot at 0x11b8743e588>"
      ]
     },
     "execution_count": 59,
     "metadata": {},
     "output_type": "execute_result"
    },
    {
     "data": {
      "image/png": "[encoded data removed]",
      "text/plain": [
       "<Figure size 432x288 with 1 Axes>"
      ]
     },
     "metadata": {},
     "output_type": "display_data"
    }
   ],
   "source": [
    "data = []\n",
    "for d in pytry.read('exp3'):\n",
    "    score = d['scores']\n",
    "    stimuli = d['stimuli']\n",
    "    for i in range(len(score)):\n",
    "        d2 = dict(d)\n",
    "        del d2['scores']\n",
    "        del d2['stimuli']\n",
    "        d2['score'] = score[i]\n",
    "        d2['type'] = stimuli[i][2]\n",
    "        data.append(d2)\n",
    "df = pandas.DataFrame(data)\n",
    "seaborn.barplot('type', 'score', hue='auto_direct', data=df)\n",
    "        "
   ]
  },
  {
   "cell_type": "code",
   "execution_count": null,
   "metadata": {
    "collapsed": true
   },
   "outputs": [],
   "source": []
  }
 ],
 "metadata": {
  "kernelspec": {
   "display_name": "Python 3",
   "language": "python",
   "name": "python3"
  },
  "language_info": {
   "codemirror_mode": {
    "name": "ipython",
    "version": 3
   },
   "file_extension": ".py",
   "mimetype": "text/x-python",
   "name": "python",
   "nbconvert_exporter": "python",
   "pygments_lexer": "ipython3",
   "version": "3.6.1"
  }
 },
 "nbformat": 4,
 "nbformat_minor": 2
}
